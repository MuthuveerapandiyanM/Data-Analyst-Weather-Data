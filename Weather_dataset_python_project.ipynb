{
  "nbformat": 4,
  "nbformat_minor": 0,
  "metadata": {
    "colab": {
      "provenance": []
    },
    "kernelspec": {
      "name": "python3",
      "display_name": "Python 3"
    },
    "language_info": {
      "name": "python"
    }
  },
  "cells": [
    {
      "cell_type": "code",
      "source": [
        "pip install requests"
      ],
      "metadata": {
        "colab": {
          "base_uri": "https://localhost:8080/"
        },
        "id": "QJ-CK05CcWAS",
        "outputId": "473bf945-b91e-46f8-c44d-24f9260c0944"
      },
      "execution_count": 1,
      "outputs": [
        {
          "output_type": "stream",
          "name": "stdout",
          "text": [
            "Looking in indexes: https://pypi.org/simple, https://us-python.pkg.dev/colab-wheels/public/simple/\n",
            "Requirement already satisfied: requests in /usr/local/lib/python3.10/dist-packages (2.27.1)\n",
            "Requirement already satisfied: urllib3<1.27,>=1.21.1 in /usr/local/lib/python3.10/dist-packages (from requests) (1.26.15)\n",
            "Requirement already satisfied: certifi>=2017.4.17 in /usr/local/lib/python3.10/dist-packages (from requests) (2022.12.7)\n",
            "Requirement already satisfied: charset-normalizer~=2.0.0 in /usr/local/lib/python3.10/dist-packages (from requests) (2.0.12)\n",
            "Requirement already satisfied: idna<4,>=2.5 in /usr/local/lib/python3.10/dist-packages (from requests) (3.4)\n"
          ]
        }
      ]
    },
    {
      "cell_type": "code",
      "execution_count": 5,
      "metadata": {
        "id": "JHxowb-BXBqo"
      },
      "outputs": [],
      "source": [
        "import requests\n",
        "\n",
        "url = \"https://api.tomorrow.io/v4/timelines\"\n",
        "\n",
        "# replace the location using the corresponding lat,long\n",
        "\n",
        "#location = \"20.59,-78.96\" #India\n",
        "location = \"52.35,-1.17\" #England\n",
        "\n",
        "# replace apikey with your own API key\n",
        "querystring = {\"location\": location, \"fields\": [\"temperature\", \"humidity\", \"windSpeed\", \"windDirection\", \"windGust\", \"precipitationType\", \"solarGHI\", \"visibility\", \"weatherCode\"],\n",
        "               \"units\": \"metric\", \"timesteps\": \"1d\", \"apikey\": \"XhleblS5tUN8zytjCNdJs180dasVeufd\"}\n",
        "\n",
        "response = requests.request(\"GET\",url, params=querystring)\n",
        "\n",
        "#replace the nmae based on your own preferance\n",
        "\n",
        "with open('Englanddata.txt','w', encoding='utf8') as f:\n",
        "  f.write(response.text)\n",
        "\n"
      ]
    },
    {
      "cell_type": "code",
      "source": [
        "import pandas as pd\n",
        "import json"
      ],
      "metadata": {
        "id": "wLaPhA1Ve326"
      },
      "execution_count": 7,
      "outputs": []
    },
    {
      "cell_type": "code",
      "source": [
        "with open('Indiadata.txt', 'r', encoding='utf8') as f:\n",
        "    India = json.load(f)\n",
        "with open('Englanddata.txt', 'r', encoding='utf8') as f:\n",
        "    England = json.load(f)"
      ],
      "metadata": {
        "id": "n_u81V3YeReZ"
      },
      "execution_count": 8,
      "outputs": []
    },
    {
      "cell_type": "code",
      "source": [
        "inter = India['data']['timelines'][0]['intervals']\n",
        "India_df = pd.DataFrame([x['values'] for x in inter])\n",
        "India_df"
      ],
      "metadata": {
        "colab": {
          "base_uri": "https://localhost:8080/",
          "height": 237
        },
        "id": "zSAk1rZMeR5I",
        "outputId": "023fe8ad-b314-4be0-b67a-8dc485713777"
      },
      "execution_count": 9,
      "outputs": [
        {
          "output_type": "execute_result",
          "data": {
            "text/plain": [
              "   humidity  precipitationType  temperature  visibility  weatherCode  \\\n",
              "0     82.53                  1        29.10       16.00         1100   \n",
              "1     85.82                  1        29.08       16.00         1100   \n",
              "2     78.96                  1        28.98       16.00         1000   \n",
              "3     81.95                  1        28.55       24.14         1001   \n",
              "4     91.09                  1        28.42       24.14         4001   \n",
              "5     79.79                  1        27.19        7.49         4200   \n",
              "\n",
              "   windDirection  windGust  windSpeed  \n",
              "0         219.96      9.06       7.00  \n",
              "1         221.83     12.91       9.83  \n",
              "2         223.96      7.23       5.49  \n",
              "3         141.88      7.23       7.03  \n",
              "4         113.08     11.06      10.00  \n",
              "5         138.46     10.19       8.66  "
            ],
            "text/html": [
              "\n",
              "  <div id=\"df-65fb96c7-9aa6-4763-97be-264805150fd8\">\n",
              "    <div class=\"colab-df-container\">\n",
              "      <div>\n",
              "<style scoped>\n",
              "    .dataframe tbody tr th:only-of-type {\n",
              "        vertical-align: middle;\n",
              "    }\n",
              "\n",
              "    .dataframe tbody tr th {\n",
              "        vertical-align: top;\n",
              "    }\n",
              "\n",
              "    .dataframe thead th {\n",
              "        text-align: right;\n",
              "    }\n",
              "</style>\n",
              "<table border=\"1\" class=\"dataframe\">\n",
              "  <thead>\n",
              "    <tr style=\"text-align: right;\">\n",
              "      <th></th>\n",
              "      <th>humidity</th>\n",
              "      <th>precipitationType</th>\n",
              "      <th>temperature</th>\n",
              "      <th>visibility</th>\n",
              "      <th>weatherCode</th>\n",
              "      <th>windDirection</th>\n",
              "      <th>windGust</th>\n",
              "      <th>windSpeed</th>\n",
              "    </tr>\n",
              "  </thead>\n",
              "  <tbody>\n",
              "    <tr>\n",
              "      <th>0</th>\n",
              "      <td>82.53</td>\n",
              "      <td>1</td>\n",
              "      <td>29.10</td>\n",
              "      <td>16.00</td>\n",
              "      <td>1100</td>\n",
              "      <td>219.96</td>\n",
              "      <td>9.06</td>\n",
              "      <td>7.00</td>\n",
              "    </tr>\n",
              "    <tr>\n",
              "      <th>1</th>\n",
              "      <td>85.82</td>\n",
              "      <td>1</td>\n",
              "      <td>29.08</td>\n",
              "      <td>16.00</td>\n",
              "      <td>1100</td>\n",
              "      <td>221.83</td>\n",
              "      <td>12.91</td>\n",
              "      <td>9.83</td>\n",
              "    </tr>\n",
              "    <tr>\n",
              "      <th>2</th>\n",
              "      <td>78.96</td>\n",
              "      <td>1</td>\n",
              "      <td>28.98</td>\n",
              "      <td>16.00</td>\n",
              "      <td>1000</td>\n",
              "      <td>223.96</td>\n",
              "      <td>7.23</td>\n",
              "      <td>5.49</td>\n",
              "    </tr>\n",
              "    <tr>\n",
              "      <th>3</th>\n",
              "      <td>81.95</td>\n",
              "      <td>1</td>\n",
              "      <td>28.55</td>\n",
              "      <td>24.14</td>\n",
              "      <td>1001</td>\n",
              "      <td>141.88</td>\n",
              "      <td>7.23</td>\n",
              "      <td>7.03</td>\n",
              "    </tr>\n",
              "    <tr>\n",
              "      <th>4</th>\n",
              "      <td>91.09</td>\n",
              "      <td>1</td>\n",
              "      <td>28.42</td>\n",
              "      <td>24.14</td>\n",
              "      <td>4001</td>\n",
              "      <td>113.08</td>\n",
              "      <td>11.06</td>\n",
              "      <td>10.00</td>\n",
              "    </tr>\n",
              "    <tr>\n",
              "      <th>5</th>\n",
              "      <td>79.79</td>\n",
              "      <td>1</td>\n",
              "      <td>27.19</td>\n",
              "      <td>7.49</td>\n",
              "      <td>4200</td>\n",
              "      <td>138.46</td>\n",
              "      <td>10.19</td>\n",
              "      <td>8.66</td>\n",
              "    </tr>\n",
              "  </tbody>\n",
              "</table>\n",
              "</div>\n",
              "      <button class=\"colab-df-convert\" onclick=\"convertToInteractive('df-65fb96c7-9aa6-4763-97be-264805150fd8')\"\n",
              "              title=\"Convert this dataframe to an interactive table.\"\n",
              "              style=\"display:none;\">\n",
              "        \n",
              "  <svg xmlns=\"http://www.w3.org/2000/svg\" height=\"24px\"viewBox=\"0 0 24 24\"\n",
              "       width=\"24px\">\n",
              "    <path d=\"M0 0h24v24H0V0z\" fill=\"none\"/>\n",
              "    <path d=\"M18.56 5.44l.94 2.06.94-2.06 2.06-.94-2.06-.94-.94-2.06-.94 2.06-2.06.94zm-11 1L8.5 8.5l.94-2.06 2.06-.94-2.06-.94L8.5 2.5l-.94 2.06-2.06.94zm10 10l.94 2.06.94-2.06 2.06-.94-2.06-.94-.94-2.06-.94 2.06-2.06.94z\"/><path d=\"M17.41 7.96l-1.37-1.37c-.4-.4-.92-.59-1.43-.59-.52 0-1.04.2-1.43.59L10.3 9.45l-7.72 7.72c-.78.78-.78 2.05 0 2.83L4 21.41c.39.39.9.59 1.41.59.51 0 1.02-.2 1.41-.59l7.78-7.78 2.81-2.81c.8-.78.8-2.07 0-2.86zM5.41 20L4 18.59l7.72-7.72 1.47 1.35L5.41 20z\"/>\n",
              "  </svg>\n",
              "      </button>\n",
              "      \n",
              "  <style>\n",
              "    .colab-df-container {\n",
              "      display:flex;\n",
              "      flex-wrap:wrap;\n",
              "      gap: 12px;\n",
              "    }\n",
              "\n",
              "    .colab-df-convert {\n",
              "      background-color: #E8F0FE;\n",
              "      border: none;\n",
              "      border-radius: 50%;\n",
              "      cursor: pointer;\n",
              "      display: none;\n",
              "      fill: #1967D2;\n",
              "      height: 32px;\n",
              "      padding: 0 0 0 0;\n",
              "      width: 32px;\n",
              "    }\n",
              "\n",
              "    .colab-df-convert:hover {\n",
              "      background-color: #E2EBFA;\n",
              "      box-shadow: 0px 1px 2px rgba(60, 64, 67, 0.3), 0px 1px 3px 1px rgba(60, 64, 67, 0.15);\n",
              "      fill: #174EA6;\n",
              "    }\n",
              "\n",
              "    [theme=dark] .colab-df-convert {\n",
              "      background-color: #3B4455;\n",
              "      fill: #D2E3FC;\n",
              "    }\n",
              "\n",
              "    [theme=dark] .colab-df-convert:hover {\n",
              "      background-color: #434B5C;\n",
              "      box-shadow: 0px 1px 3px 1px rgba(0, 0, 0, 0.15);\n",
              "      filter: drop-shadow(0px 1px 2px rgba(0, 0, 0, 0.3));\n",
              "      fill: #FFFFFF;\n",
              "    }\n",
              "  </style>\n",
              "\n",
              "      <script>\n",
              "        const buttonEl =\n",
              "          document.querySelector('#df-65fb96c7-9aa6-4763-97be-264805150fd8 button.colab-df-convert');\n",
              "        buttonEl.style.display =\n",
              "          google.colab.kernel.accessAllowed ? 'block' : 'none';\n",
              "\n",
              "        async function convertToInteractive(key) {\n",
              "          const element = document.querySelector('#df-65fb96c7-9aa6-4763-97be-264805150fd8');\n",
              "          const dataTable =\n",
              "            await google.colab.kernel.invokeFunction('convertToInteractive',\n",
              "                                                     [key], {});\n",
              "          if (!dataTable) return;\n",
              "\n",
              "          const docLinkHtml = 'Like what you see? Visit the ' +\n",
              "            '<a target=\"_blank\" href=https://colab.research.google.com/notebooks/data_table.ipynb>data table notebook</a>'\n",
              "            + ' to learn more about interactive tables.';\n",
              "          element.innerHTML = '';\n",
              "          dataTable['output_type'] = 'display_data';\n",
              "          await google.colab.output.renderOutput(dataTable, element);\n",
              "          const docLink = document.createElement('div');\n",
              "          docLink.innerHTML = docLinkHtml;\n",
              "          element.appendChild(docLink);\n",
              "        }\n",
              "      </script>\n",
              "    </div>\n",
              "  </div>\n",
              "  "
            ]
          },
          "metadata": {},
          "execution_count": 9
        }
      ]
    },
    {
      "cell_type": "code",
      "source": [
        "inter = England['data']['timelines'][0]['intervals']\n",
        "England_df = pd.DataFrame([x['values'] for x in inter])\n",
        "England_df"
      ],
      "metadata": {
        "colab": {
          "base_uri": "https://localhost:8080/",
          "height": 237
        },
        "id": "1FVkGsbjeSDs",
        "outputId": "d6ff132b-9bb1-4ddf-c710-bf07d9239f7e"
      },
      "execution_count": 10,
      "outputs": [
        {
          "output_type": "execute_result",
          "data": {
            "text/plain": [
              "   humidity  precipitationType  temperature  visibility  weatherCode  \\\n",
              "0     97.46                  0        18.38       16.00         1000   \n",
              "1     98.51                  0        18.85       16.00         1000   \n",
              "2     97.27                  1        17.84       16.00         1001   \n",
              "3     98.44                  1        15.89       24.14         1001   \n",
              "4     97.69                  0        17.61       24.14         1000   \n",
              "5     92.58                  0        17.58       24.14         1000   \n",
              "\n",
              "   windDirection  windGust  windSpeed  \n",
              "0          53.25     10.00       5.13  \n",
              "1          57.06      8.93       4.86  \n",
              "2          53.97      9.52       5.16  \n",
              "3          57.42     10.82       5.80  \n",
              "4          61.07     11.03       6.10  \n",
              "5          67.08     11.33       6.38  "
            ],
            "text/html": [
              "\n",
              "  <div id=\"df-c5fb07a8-34c5-4f39-b952-a9a9d3e1584d\">\n",
              "    <div class=\"colab-df-container\">\n",
              "      <div>\n",
              "<style scoped>\n",
              "    .dataframe tbody tr th:only-of-type {\n",
              "        vertical-align: middle;\n",
              "    }\n",
              "\n",
              "    .dataframe tbody tr th {\n",
              "        vertical-align: top;\n",
              "    }\n",
              "\n",
              "    .dataframe thead th {\n",
              "        text-align: right;\n",
              "    }\n",
              "</style>\n",
              "<table border=\"1\" class=\"dataframe\">\n",
              "  <thead>\n",
              "    <tr style=\"text-align: right;\">\n",
              "      <th></th>\n",
              "      <th>humidity</th>\n",
              "      <th>precipitationType</th>\n",
              "      <th>temperature</th>\n",
              "      <th>visibility</th>\n",
              "      <th>weatherCode</th>\n",
              "      <th>windDirection</th>\n",
              "      <th>windGust</th>\n",
              "      <th>windSpeed</th>\n",
              "    </tr>\n",
              "  </thead>\n",
              "  <tbody>\n",
              "    <tr>\n",
              "      <th>0</th>\n",
              "      <td>97.46</td>\n",
              "      <td>0</td>\n",
              "      <td>18.38</td>\n",
              "      <td>16.00</td>\n",
              "      <td>1000</td>\n",
              "      <td>53.25</td>\n",
              "      <td>10.00</td>\n",
              "      <td>5.13</td>\n",
              "    </tr>\n",
              "    <tr>\n",
              "      <th>1</th>\n",
              "      <td>98.51</td>\n",
              "      <td>0</td>\n",
              "      <td>18.85</td>\n",
              "      <td>16.00</td>\n",
              "      <td>1000</td>\n",
              "      <td>57.06</td>\n",
              "      <td>8.93</td>\n",
              "      <td>4.86</td>\n",
              "    </tr>\n",
              "    <tr>\n",
              "      <th>2</th>\n",
              "      <td>97.27</td>\n",
              "      <td>1</td>\n",
              "      <td>17.84</td>\n",
              "      <td>16.00</td>\n",
              "      <td>1001</td>\n",
              "      <td>53.97</td>\n",
              "      <td>9.52</td>\n",
              "      <td>5.16</td>\n",
              "    </tr>\n",
              "    <tr>\n",
              "      <th>3</th>\n",
              "      <td>98.44</td>\n",
              "      <td>1</td>\n",
              "      <td>15.89</td>\n",
              "      <td>24.14</td>\n",
              "      <td>1001</td>\n",
              "      <td>57.42</td>\n",
              "      <td>10.82</td>\n",
              "      <td>5.80</td>\n",
              "    </tr>\n",
              "    <tr>\n",
              "      <th>4</th>\n",
              "      <td>97.69</td>\n",
              "      <td>0</td>\n",
              "      <td>17.61</td>\n",
              "      <td>24.14</td>\n",
              "      <td>1000</td>\n",
              "      <td>61.07</td>\n",
              "      <td>11.03</td>\n",
              "      <td>6.10</td>\n",
              "    </tr>\n",
              "    <tr>\n",
              "      <th>5</th>\n",
              "      <td>92.58</td>\n",
              "      <td>0</td>\n",
              "      <td>17.58</td>\n",
              "      <td>24.14</td>\n",
              "      <td>1000</td>\n",
              "      <td>67.08</td>\n",
              "      <td>11.33</td>\n",
              "      <td>6.38</td>\n",
              "    </tr>\n",
              "  </tbody>\n",
              "</table>\n",
              "</div>\n",
              "      <button class=\"colab-df-convert\" onclick=\"convertToInteractive('df-c5fb07a8-34c5-4f39-b952-a9a9d3e1584d')\"\n",
              "              title=\"Convert this dataframe to an interactive table.\"\n",
              "              style=\"display:none;\">\n",
              "        \n",
              "  <svg xmlns=\"http://www.w3.org/2000/svg\" height=\"24px\"viewBox=\"0 0 24 24\"\n",
              "       width=\"24px\">\n",
              "    <path d=\"M0 0h24v24H0V0z\" fill=\"none\"/>\n",
              "    <path d=\"M18.56 5.44l.94 2.06.94-2.06 2.06-.94-2.06-.94-.94-2.06-.94 2.06-2.06.94zm-11 1L8.5 8.5l.94-2.06 2.06-.94-2.06-.94L8.5 2.5l-.94 2.06-2.06.94zm10 10l.94 2.06.94-2.06 2.06-.94-2.06-.94-.94-2.06-.94 2.06-2.06.94z\"/><path d=\"M17.41 7.96l-1.37-1.37c-.4-.4-.92-.59-1.43-.59-.52 0-1.04.2-1.43.59L10.3 9.45l-7.72 7.72c-.78.78-.78 2.05 0 2.83L4 21.41c.39.39.9.59 1.41.59.51 0 1.02-.2 1.41-.59l7.78-7.78 2.81-2.81c.8-.78.8-2.07 0-2.86zM5.41 20L4 18.59l7.72-7.72 1.47 1.35L5.41 20z\"/>\n",
              "  </svg>\n",
              "      </button>\n",
              "      \n",
              "  <style>\n",
              "    .colab-df-container {\n",
              "      display:flex;\n",
              "      flex-wrap:wrap;\n",
              "      gap: 12px;\n",
              "    }\n",
              "\n",
              "    .colab-df-convert {\n",
              "      background-color: #E8F0FE;\n",
              "      border: none;\n",
              "      border-radius: 50%;\n",
              "      cursor: pointer;\n",
              "      display: none;\n",
              "      fill: #1967D2;\n",
              "      height: 32px;\n",
              "      padding: 0 0 0 0;\n",
              "      width: 32px;\n",
              "    }\n",
              "\n",
              "    .colab-df-convert:hover {\n",
              "      background-color: #E2EBFA;\n",
              "      box-shadow: 0px 1px 2px rgba(60, 64, 67, 0.3), 0px 1px 3px 1px rgba(60, 64, 67, 0.15);\n",
              "      fill: #174EA6;\n",
              "    }\n",
              "\n",
              "    [theme=dark] .colab-df-convert {\n",
              "      background-color: #3B4455;\n",
              "      fill: #D2E3FC;\n",
              "    }\n",
              "\n",
              "    [theme=dark] .colab-df-convert:hover {\n",
              "      background-color: #434B5C;\n",
              "      box-shadow: 0px 1px 3px 1px rgba(0, 0, 0, 0.15);\n",
              "      filter: drop-shadow(0px 1px 2px rgba(0, 0, 0, 0.3));\n",
              "      fill: #FFFFFF;\n",
              "    }\n",
              "  </style>\n",
              "\n",
              "      <script>\n",
              "        const buttonEl =\n",
              "          document.querySelector('#df-c5fb07a8-34c5-4f39-b952-a9a9d3e1584d button.colab-df-convert');\n",
              "        buttonEl.style.display =\n",
              "          google.colab.kernel.accessAllowed ? 'block' : 'none';\n",
              "\n",
              "        async function convertToInteractive(key) {\n",
              "          const element = document.querySelector('#df-c5fb07a8-34c5-4f39-b952-a9a9d3e1584d');\n",
              "          const dataTable =\n",
              "            await google.colab.kernel.invokeFunction('convertToInteractive',\n",
              "                                                     [key], {});\n",
              "          if (!dataTable) return;\n",
              "\n",
              "          const docLinkHtml = 'Like what you see? Visit the ' +\n",
              "            '<a target=\"_blank\" href=https://colab.research.google.com/notebooks/data_table.ipynb>data table notebook</a>'\n",
              "            + ' to learn more about interactive tables.';\n",
              "          element.innerHTML = '';\n",
              "          dataTable['output_type'] = 'display_data';\n",
              "          await google.colab.output.renderOutput(dataTable, element);\n",
              "          const docLink = document.createElement('div');\n",
              "          docLink.innerHTML = docLinkHtml;\n",
              "          element.appendChild(docLink);\n",
              "        }\n",
              "      </script>\n",
              "    </div>\n",
              "  </div>\n",
              "  "
            ]
          },
          "metadata": {},
          "execution_count": 10
        }
      ]
    },
    {
      "cell_type": "markdown",
      "source": [
        "As you can see, the weatherCode is based on a 4-digit integer, which is not intuitive. Let’s overwrite the column and map the code to the corresponding value."
      ],
      "metadata": {
        "id": "GkQZQcHiBFZn"
      }
    },
    {
      "cell_type": "code",
      "source": [
        "weather_code_map = {0: 'Unknown',\n",
        "1000: 'Clear',\n",
        "1001: 'Cloudy',\n",
        "1100: 'Mostly Clear',\n",
        "1101: 'Partly Cloudy',\n",
        "1102: 'Mostly Cloudy',\n",
        "2000: 'Fog',\n",
        "2100: 'Light Fog',\n",
        "3000: 'Light Wind',\n",
        "3001: 'Wind',\n",
        "3002: 'Strong Wind',\n",
        "4000: 'Drizzle',\n",
        "4001: 'Rain',\n",
        "4200: 'Light Rain',\n",
        "4201: 'Heavy Rain',\n",
        "5000: 'Snow',\n",
        "5001: 'Flurries',\n",
        "5100: 'Light Snow',\n",
        "5101: 'Heavy Snow',\n",
        "6000: 'Freezing Drizzle',\n",
        "6001: 'Freezing Rain',\n",
        "6200: 'Light Freezing Rain',\n",
        "6201: 'Heavy Freezing Rain',\n",
        "7000: 'Ice Pellets',\n",
        "7101: 'Heavy Ice Pellets',\n",
        "7102: 'Light Ice Pellets',\n",
        "8000: 'Thunderstorm'}\n",
        "\n",
        "India_df['weatherCode'] = [weather_code_map[x] for x in India_df['weatherCode']]\n",
        "England_df['weatherCode'] = [weather_code_map[x] for x in England_df['weatherCode']]\n",
        "\n",
        "India_df"
      ],
      "metadata": {
        "colab": {
          "base_uri": "https://localhost:8080/",
          "height": 237
        },
        "id": "SvmTeqfJhxRi",
        "outputId": "bfb7f0c0-ca05-4861-867b-3164eb1fa5c5"
      },
      "execution_count": 11,
      "outputs": [
        {
          "output_type": "execute_result",
          "data": {
            "text/plain": [
              "   humidity  precipitationType  temperature  visibility   weatherCode  \\\n",
              "0     82.53                  1        29.10       16.00  Mostly Clear   \n",
              "1     85.82                  1        29.08       16.00  Mostly Clear   \n",
              "2     78.96                  1        28.98       16.00         Clear   \n",
              "3     81.95                  1        28.55       24.14        Cloudy   \n",
              "4     91.09                  1        28.42       24.14          Rain   \n",
              "5     79.79                  1        27.19        7.49    Light Rain   \n",
              "\n",
              "   windDirection  windGust  windSpeed  \n",
              "0         219.96      9.06       7.00  \n",
              "1         221.83     12.91       9.83  \n",
              "2         223.96      7.23       5.49  \n",
              "3         141.88      7.23       7.03  \n",
              "4         113.08     11.06      10.00  \n",
              "5         138.46     10.19       8.66  "
            ],
            "text/html": [
              "\n",
              "  <div id=\"df-1cf22126-9679-41a6-a518-56eab8abceeb\">\n",
              "    <div class=\"colab-df-container\">\n",
              "      <div>\n",
              "<style scoped>\n",
              "    .dataframe tbody tr th:only-of-type {\n",
              "        vertical-align: middle;\n",
              "    }\n",
              "\n",
              "    .dataframe tbody tr th {\n",
              "        vertical-align: top;\n",
              "    }\n",
              "\n",
              "    .dataframe thead th {\n",
              "        text-align: right;\n",
              "    }\n",
              "</style>\n",
              "<table border=\"1\" class=\"dataframe\">\n",
              "  <thead>\n",
              "    <tr style=\"text-align: right;\">\n",
              "      <th></th>\n",
              "      <th>humidity</th>\n",
              "      <th>precipitationType</th>\n",
              "      <th>temperature</th>\n",
              "      <th>visibility</th>\n",
              "      <th>weatherCode</th>\n",
              "      <th>windDirection</th>\n",
              "      <th>windGust</th>\n",
              "      <th>windSpeed</th>\n",
              "    </tr>\n",
              "  </thead>\n",
              "  <tbody>\n",
              "    <tr>\n",
              "      <th>0</th>\n",
              "      <td>82.53</td>\n",
              "      <td>1</td>\n",
              "      <td>29.10</td>\n",
              "      <td>16.00</td>\n",
              "      <td>Mostly Clear</td>\n",
              "      <td>219.96</td>\n",
              "      <td>9.06</td>\n",
              "      <td>7.00</td>\n",
              "    </tr>\n",
              "    <tr>\n",
              "      <th>1</th>\n",
              "      <td>85.82</td>\n",
              "      <td>1</td>\n",
              "      <td>29.08</td>\n",
              "      <td>16.00</td>\n",
              "      <td>Mostly Clear</td>\n",
              "      <td>221.83</td>\n",
              "      <td>12.91</td>\n",
              "      <td>9.83</td>\n",
              "    </tr>\n",
              "    <tr>\n",
              "      <th>2</th>\n",
              "      <td>78.96</td>\n",
              "      <td>1</td>\n",
              "      <td>28.98</td>\n",
              "      <td>16.00</td>\n",
              "      <td>Clear</td>\n",
              "      <td>223.96</td>\n",
              "      <td>7.23</td>\n",
              "      <td>5.49</td>\n",
              "    </tr>\n",
              "    <tr>\n",
              "      <th>3</th>\n",
              "      <td>81.95</td>\n",
              "      <td>1</td>\n",
              "      <td>28.55</td>\n",
              "      <td>24.14</td>\n",
              "      <td>Cloudy</td>\n",
              "      <td>141.88</td>\n",
              "      <td>7.23</td>\n",
              "      <td>7.03</td>\n",
              "    </tr>\n",
              "    <tr>\n",
              "      <th>4</th>\n",
              "      <td>91.09</td>\n",
              "      <td>1</td>\n",
              "      <td>28.42</td>\n",
              "      <td>24.14</td>\n",
              "      <td>Rain</td>\n",
              "      <td>113.08</td>\n",
              "      <td>11.06</td>\n",
              "      <td>10.00</td>\n",
              "    </tr>\n",
              "    <tr>\n",
              "      <th>5</th>\n",
              "      <td>79.79</td>\n",
              "      <td>1</td>\n",
              "      <td>27.19</td>\n",
              "      <td>7.49</td>\n",
              "      <td>Light Rain</td>\n",
              "      <td>138.46</td>\n",
              "      <td>10.19</td>\n",
              "      <td>8.66</td>\n",
              "    </tr>\n",
              "  </tbody>\n",
              "</table>\n",
              "</div>\n",
              "      <button class=\"colab-df-convert\" onclick=\"convertToInteractive('df-1cf22126-9679-41a6-a518-56eab8abceeb')\"\n",
              "              title=\"Convert this dataframe to an interactive table.\"\n",
              "              style=\"display:none;\">\n",
              "        \n",
              "  <svg xmlns=\"http://www.w3.org/2000/svg\" height=\"24px\"viewBox=\"0 0 24 24\"\n",
              "       width=\"24px\">\n",
              "    <path d=\"M0 0h24v24H0V0z\" fill=\"none\"/>\n",
              "    <path d=\"M18.56 5.44l.94 2.06.94-2.06 2.06-.94-2.06-.94-.94-2.06-.94 2.06-2.06.94zm-11 1L8.5 8.5l.94-2.06 2.06-.94-2.06-.94L8.5 2.5l-.94 2.06-2.06.94zm10 10l.94 2.06.94-2.06 2.06-.94-2.06-.94-.94-2.06-.94 2.06-2.06.94z\"/><path d=\"M17.41 7.96l-1.37-1.37c-.4-.4-.92-.59-1.43-.59-.52 0-1.04.2-1.43.59L10.3 9.45l-7.72 7.72c-.78.78-.78 2.05 0 2.83L4 21.41c.39.39.9.59 1.41.59.51 0 1.02-.2 1.41-.59l7.78-7.78 2.81-2.81c.8-.78.8-2.07 0-2.86zM5.41 20L4 18.59l7.72-7.72 1.47 1.35L5.41 20z\"/>\n",
              "  </svg>\n",
              "      </button>\n",
              "      \n",
              "  <style>\n",
              "    .colab-df-container {\n",
              "      display:flex;\n",
              "      flex-wrap:wrap;\n",
              "      gap: 12px;\n",
              "    }\n",
              "\n",
              "    .colab-df-convert {\n",
              "      background-color: #E8F0FE;\n",
              "      border: none;\n",
              "      border-radius: 50%;\n",
              "      cursor: pointer;\n",
              "      display: none;\n",
              "      fill: #1967D2;\n",
              "      height: 32px;\n",
              "      padding: 0 0 0 0;\n",
              "      width: 32px;\n",
              "    }\n",
              "\n",
              "    .colab-df-convert:hover {\n",
              "      background-color: #E2EBFA;\n",
              "      box-shadow: 0px 1px 2px rgba(60, 64, 67, 0.3), 0px 1px 3px 1px rgba(60, 64, 67, 0.15);\n",
              "      fill: #174EA6;\n",
              "    }\n",
              "\n",
              "    [theme=dark] .colab-df-convert {\n",
              "      background-color: #3B4455;\n",
              "      fill: #D2E3FC;\n",
              "    }\n",
              "\n",
              "    [theme=dark] .colab-df-convert:hover {\n",
              "      background-color: #434B5C;\n",
              "      box-shadow: 0px 1px 3px 1px rgba(0, 0, 0, 0.15);\n",
              "      filter: drop-shadow(0px 1px 2px rgba(0, 0, 0, 0.3));\n",
              "      fill: #FFFFFF;\n",
              "    }\n",
              "  </style>\n",
              "\n",
              "      <script>\n",
              "        const buttonEl =\n",
              "          document.querySelector('#df-1cf22126-9679-41a6-a518-56eab8abceeb button.colab-df-convert');\n",
              "        buttonEl.style.display =\n",
              "          google.colab.kernel.accessAllowed ? 'block' : 'none';\n",
              "\n",
              "        async function convertToInteractive(key) {\n",
              "          const element = document.querySelector('#df-1cf22126-9679-41a6-a518-56eab8abceeb');\n",
              "          const dataTable =\n",
              "            await google.colab.kernel.invokeFunction('convertToInteractive',\n",
              "                                                     [key], {});\n",
              "          if (!dataTable) return;\n",
              "\n",
              "          const docLinkHtml = 'Like what you see? Visit the ' +\n",
              "            '<a target=\"_blank\" href=https://colab.research.google.com/notebooks/data_table.ipynb>data table notebook</a>'\n",
              "            + ' to learn more about interactive tables.';\n",
              "          element.innerHTML = '';\n",
              "          dataTable['output_type'] = 'display_data';\n",
              "          await google.colab.output.renderOutput(dataTable, element);\n",
              "          const docLink = document.createElement('div');\n",
              "          docLink.innerHTML = docLinkHtml;\n",
              "          element.appendChild(docLink);\n",
              "        }\n",
              "      </script>\n",
              "    </div>\n",
              "  </div>\n",
              "  "
            ]
          },
          "metadata": {},
          "execution_count": 11
        }
      ]
    },
    {
      "cell_type": "code",
      "source": [
        "England_df"
      ],
      "metadata": {
        "colab": {
          "base_uri": "https://localhost:8080/",
          "height": 237
        },
        "id": "_VVKzCKximAy",
        "outputId": "86fea30c-ee56-4a02-a52f-8ae652392624"
      },
      "execution_count": 12,
      "outputs": [
        {
          "output_type": "execute_result",
          "data": {
            "text/plain": [
              "   humidity  precipitationType  temperature  visibility weatherCode  \\\n",
              "0     97.46                  0        18.38       16.00       Clear   \n",
              "1     98.51                  0        18.85       16.00       Clear   \n",
              "2     97.27                  1        17.84       16.00      Cloudy   \n",
              "3     98.44                  1        15.89       24.14      Cloudy   \n",
              "4     97.69                  0        17.61       24.14       Clear   \n",
              "5     92.58                  0        17.58       24.14       Clear   \n",
              "\n",
              "   windDirection  windGust  windSpeed  \n",
              "0          53.25     10.00       5.13  \n",
              "1          57.06      8.93       4.86  \n",
              "2          53.97      9.52       5.16  \n",
              "3          57.42     10.82       5.80  \n",
              "4          61.07     11.03       6.10  \n",
              "5          67.08     11.33       6.38  "
            ],
            "text/html": [
              "\n",
              "  <div id=\"df-d6321251-5685-41b7-b93b-6254b7d8ce72\">\n",
              "    <div class=\"colab-df-container\">\n",
              "      <div>\n",
              "<style scoped>\n",
              "    .dataframe tbody tr th:only-of-type {\n",
              "        vertical-align: middle;\n",
              "    }\n",
              "\n",
              "    .dataframe tbody tr th {\n",
              "        vertical-align: top;\n",
              "    }\n",
              "\n",
              "    .dataframe thead th {\n",
              "        text-align: right;\n",
              "    }\n",
              "</style>\n",
              "<table border=\"1\" class=\"dataframe\">\n",
              "  <thead>\n",
              "    <tr style=\"text-align: right;\">\n",
              "      <th></th>\n",
              "      <th>humidity</th>\n",
              "      <th>precipitationType</th>\n",
              "      <th>temperature</th>\n",
              "      <th>visibility</th>\n",
              "      <th>weatherCode</th>\n",
              "      <th>windDirection</th>\n",
              "      <th>windGust</th>\n",
              "      <th>windSpeed</th>\n",
              "    </tr>\n",
              "  </thead>\n",
              "  <tbody>\n",
              "    <tr>\n",
              "      <th>0</th>\n",
              "      <td>97.46</td>\n",
              "      <td>0</td>\n",
              "      <td>18.38</td>\n",
              "      <td>16.00</td>\n",
              "      <td>Clear</td>\n",
              "      <td>53.25</td>\n",
              "      <td>10.00</td>\n",
              "      <td>5.13</td>\n",
              "    </tr>\n",
              "    <tr>\n",
              "      <th>1</th>\n",
              "      <td>98.51</td>\n",
              "      <td>0</td>\n",
              "      <td>18.85</td>\n",
              "      <td>16.00</td>\n",
              "      <td>Clear</td>\n",
              "      <td>57.06</td>\n",
              "      <td>8.93</td>\n",
              "      <td>4.86</td>\n",
              "    </tr>\n",
              "    <tr>\n",
              "      <th>2</th>\n",
              "      <td>97.27</td>\n",
              "      <td>1</td>\n",
              "      <td>17.84</td>\n",
              "      <td>16.00</td>\n",
              "      <td>Cloudy</td>\n",
              "      <td>53.97</td>\n",
              "      <td>9.52</td>\n",
              "      <td>5.16</td>\n",
              "    </tr>\n",
              "    <tr>\n",
              "      <th>3</th>\n",
              "      <td>98.44</td>\n",
              "      <td>1</td>\n",
              "      <td>15.89</td>\n",
              "      <td>24.14</td>\n",
              "      <td>Cloudy</td>\n",
              "      <td>57.42</td>\n",
              "      <td>10.82</td>\n",
              "      <td>5.80</td>\n",
              "    </tr>\n",
              "    <tr>\n",
              "      <th>4</th>\n",
              "      <td>97.69</td>\n",
              "      <td>0</td>\n",
              "      <td>17.61</td>\n",
              "      <td>24.14</td>\n",
              "      <td>Clear</td>\n",
              "      <td>61.07</td>\n",
              "      <td>11.03</td>\n",
              "      <td>6.10</td>\n",
              "    </tr>\n",
              "    <tr>\n",
              "      <th>5</th>\n",
              "      <td>92.58</td>\n",
              "      <td>0</td>\n",
              "      <td>17.58</td>\n",
              "      <td>24.14</td>\n",
              "      <td>Clear</td>\n",
              "      <td>67.08</td>\n",
              "      <td>11.33</td>\n",
              "      <td>6.38</td>\n",
              "    </tr>\n",
              "  </tbody>\n",
              "</table>\n",
              "</div>\n",
              "      <button class=\"colab-df-convert\" onclick=\"convertToInteractive('df-d6321251-5685-41b7-b93b-6254b7d8ce72')\"\n",
              "              title=\"Convert this dataframe to an interactive table.\"\n",
              "              style=\"display:none;\">\n",
              "        \n",
              "  <svg xmlns=\"http://www.w3.org/2000/svg\" height=\"24px\"viewBox=\"0 0 24 24\"\n",
              "       width=\"24px\">\n",
              "    <path d=\"M0 0h24v24H0V0z\" fill=\"none\"/>\n",
              "    <path d=\"M18.56 5.44l.94 2.06.94-2.06 2.06-.94-2.06-.94-.94-2.06-.94 2.06-2.06.94zm-11 1L8.5 8.5l.94-2.06 2.06-.94-2.06-.94L8.5 2.5l-.94 2.06-2.06.94zm10 10l.94 2.06.94-2.06 2.06-.94-2.06-.94-.94-2.06-.94 2.06-2.06.94z\"/><path d=\"M17.41 7.96l-1.37-1.37c-.4-.4-.92-.59-1.43-.59-.52 0-1.04.2-1.43.59L10.3 9.45l-7.72 7.72c-.78.78-.78 2.05 0 2.83L4 21.41c.39.39.9.59 1.41.59.51 0 1.02-.2 1.41-.59l7.78-7.78 2.81-2.81c.8-.78.8-2.07 0-2.86zM5.41 20L4 18.59l7.72-7.72 1.47 1.35L5.41 20z\"/>\n",
              "  </svg>\n",
              "      </button>\n",
              "      \n",
              "  <style>\n",
              "    .colab-df-container {\n",
              "      display:flex;\n",
              "      flex-wrap:wrap;\n",
              "      gap: 12px;\n",
              "    }\n",
              "\n",
              "    .colab-df-convert {\n",
              "      background-color: #E8F0FE;\n",
              "      border: none;\n",
              "      border-radius: 50%;\n",
              "      cursor: pointer;\n",
              "      display: none;\n",
              "      fill: #1967D2;\n",
              "      height: 32px;\n",
              "      padding: 0 0 0 0;\n",
              "      width: 32px;\n",
              "    }\n",
              "\n",
              "    .colab-df-convert:hover {\n",
              "      background-color: #E2EBFA;\n",
              "      box-shadow: 0px 1px 2px rgba(60, 64, 67, 0.3), 0px 1px 3px 1px rgba(60, 64, 67, 0.15);\n",
              "      fill: #174EA6;\n",
              "    }\n",
              "\n",
              "    [theme=dark] .colab-df-convert {\n",
              "      background-color: #3B4455;\n",
              "      fill: #D2E3FC;\n",
              "    }\n",
              "\n",
              "    [theme=dark] .colab-df-convert:hover {\n",
              "      background-color: #434B5C;\n",
              "      box-shadow: 0px 1px 3px 1px rgba(0, 0, 0, 0.15);\n",
              "      filter: drop-shadow(0px 1px 2px rgba(0, 0, 0, 0.3));\n",
              "      fill: #FFFFFF;\n",
              "    }\n",
              "  </style>\n",
              "\n",
              "      <script>\n",
              "        const buttonEl =\n",
              "          document.querySelector('#df-d6321251-5685-41b7-b93b-6254b7d8ce72 button.colab-df-convert');\n",
              "        buttonEl.style.display =\n",
              "          google.colab.kernel.accessAllowed ? 'block' : 'none';\n",
              "\n",
              "        async function convertToInteractive(key) {\n",
              "          const element = document.querySelector('#df-d6321251-5685-41b7-b93b-6254b7d8ce72');\n",
              "          const dataTable =\n",
              "            await google.colab.kernel.invokeFunction('convertToInteractive',\n",
              "                                                     [key], {});\n",
              "          if (!dataTable) return;\n",
              "\n",
              "          const docLinkHtml = 'Like what you see? Visit the ' +\n",
              "            '<a target=\"_blank\" href=https://colab.research.google.com/notebooks/data_table.ipynb>data table notebook</a>'\n",
              "            + ' to learn more about interactive tables.';\n",
              "          element.innerHTML = '';\n",
              "          dataTable['output_type'] = 'display_data';\n",
              "          await google.colab.output.renderOutput(dataTable, element);\n",
              "          const docLink = document.createElement('div');\n",
              "          docLink.innerHTML = docLinkHtml;\n",
              "          element.appendChild(docLink);\n",
              "        }\n",
              "      </script>\n",
              "    </div>\n",
              "  </div>\n",
              "  "
            ]
          },
          "metadata": {},
          "execution_count": 12
        }
      ]
    },
    {
      "cell_type": "code",
      "source": [
        "#Obtain Statstical data\n",
        "\n",
        "India_df.max() #Max value from each column"
      ],
      "metadata": {
        "colab": {
          "base_uri": "https://localhost:8080/"
        },
        "id": "oRyWdDocimEa",
        "outputId": "7cb644bb-2819-498e-c958-e4ac626b0895"
      },
      "execution_count": 13,
      "outputs": [
        {
          "output_type": "execute_result",
          "data": {
            "text/plain": [
              "humidity              91.09\n",
              "precipitationType         1\n",
              "temperature            29.1\n",
              "visibility            24.14\n",
              "weatherCode            Rain\n",
              "windDirection        223.96\n",
              "windGust              12.91\n",
              "windSpeed              10.0\n",
              "dtype: object"
            ]
          },
          "metadata": {},
          "execution_count": 13
        }
      ]
    },
    {
      "cell_type": "code",
      "source": [
        "England_df.max()"
      ],
      "metadata": {
        "colab": {
          "base_uri": "https://localhost:8080/"
        },
        "id": "UIkr7cnFimLb",
        "outputId": "3c6b7992-e255-406f-bd55-eba6e3cb7f5c"
      },
      "execution_count": 14,
      "outputs": [
        {
          "output_type": "execute_result",
          "data": {
            "text/plain": [
              "humidity              98.51\n",
              "precipitationType         1\n",
              "temperature           18.85\n",
              "visibility            24.14\n",
              "weatherCode          Cloudy\n",
              "windDirection         67.08\n",
              "windGust              11.33\n",
              "windSpeed              6.38\n",
              "dtype: object"
            ]
          },
          "metadata": {},
          "execution_count": 14
        }
      ]
    },
    {
      "cell_type": "code",
      "source": [
        "#Compare India and England Minimum Temp\n",
        "\n",
        "India_df['temperature'].min()"
      ],
      "metadata": {
        "colab": {
          "base_uri": "https://localhost:8080/"
        },
        "id": "nQLfOnvXimOr",
        "outputId": "0d696cf8-d9bc-461f-98cb-4d3d7665c5c6"
      },
      "execution_count": 16,
      "outputs": [
        {
          "output_type": "execute_result",
          "data": {
            "text/plain": [
              "27.19"
            ]
          },
          "metadata": {},
          "execution_count": 16
        }
      ]
    },
    {
      "cell_type": "code",
      "source": [
        "England_df['temperature'].min()"
      ],
      "metadata": {
        "colab": {
          "base_uri": "https://localhost:8080/"
        },
        "id": "f6E6t0UWimSB",
        "outputId": "f529c4d9-6c24-434b-bb32-8f3d96065002"
      },
      "execution_count": 17,
      "outputs": [
        {
          "output_type": "execute_result",
          "data": {
            "text/plain": [
              "15.89"
            ]
          },
          "metadata": {},
          "execution_count": 17
        }
      ]
    },
    {
      "cell_type": "code",
      "source": [],
      "metadata": {
        "id": "YeDqpnLpimW5"
      },
      "execution_count": 19,
      "outputs": []
    },
    {
      "cell_type": "markdown",
      "source": [
        "Statistical value of India"
      ],
      "metadata": {
        "id": "N29zTENYkkUO"
      }
    },
    {
      "cell_type": "code",
      "source": [
        "India_df.describe()"
      ],
      "metadata": {
        "colab": {
          "base_uri": "https://localhost:8080/",
          "height": 300
        },
        "id": "2CMEJ0Weimbc",
        "outputId": "3f1d6bb3-f7f9-4601-e3e9-36ce2b90e99a"
      },
      "execution_count": 20,
      "outputs": [
        {
          "output_type": "execute_result",
          "data": {
            "text/plain": [
              "        humidity  precipitationType  temperature  visibility  windDirection  \\\n",
              "count   6.000000                6.0     6.000000    6.000000       6.000000   \n",
              "mean   83.356667                1.0    28.553333   17.295000     176.528333   \n",
              "std     4.485228                0.0     0.725911    6.243031      50.722204   \n",
              "min    78.960000                1.0    27.190000    7.490000     113.080000   \n",
              "25%    80.330000                1.0    28.452500   16.000000     139.315000   \n",
              "50%    82.240000                1.0    28.765000   16.000000     180.920000   \n",
              "75%    84.997500                1.0    29.055000   22.105000     221.362500   \n",
              "max    91.090000                1.0    29.100000   24.140000     223.960000   \n",
              "\n",
              "        windGust  windSpeed  \n",
              "count   6.000000   6.000000  \n",
              "mean    9.613333   8.001667  \n",
              "std     2.234284   1.790278  \n",
              "min     7.230000   5.490000  \n",
              "25%     7.687500   7.007500  \n",
              "50%     9.625000   7.845000  \n",
              "75%    10.842500   9.537500  \n",
              "max    12.910000  10.000000  "
            ],
            "text/html": [
              "\n",
              "  <div id=\"df-b4518d2e-d8d4-4e00-96ce-25c6e668ff89\">\n",
              "    <div class=\"colab-df-container\">\n",
              "      <div>\n",
              "<style scoped>\n",
              "    .dataframe tbody tr th:only-of-type {\n",
              "        vertical-align: middle;\n",
              "    }\n",
              "\n",
              "    .dataframe tbody tr th {\n",
              "        vertical-align: top;\n",
              "    }\n",
              "\n",
              "    .dataframe thead th {\n",
              "        text-align: right;\n",
              "    }\n",
              "</style>\n",
              "<table border=\"1\" class=\"dataframe\">\n",
              "  <thead>\n",
              "    <tr style=\"text-align: right;\">\n",
              "      <th></th>\n",
              "      <th>humidity</th>\n",
              "      <th>precipitationType</th>\n",
              "      <th>temperature</th>\n",
              "      <th>visibility</th>\n",
              "      <th>windDirection</th>\n",
              "      <th>windGust</th>\n",
              "      <th>windSpeed</th>\n",
              "    </tr>\n",
              "  </thead>\n",
              "  <tbody>\n",
              "    <tr>\n",
              "      <th>count</th>\n",
              "      <td>6.000000</td>\n",
              "      <td>6.0</td>\n",
              "      <td>6.000000</td>\n",
              "      <td>6.000000</td>\n",
              "      <td>6.000000</td>\n",
              "      <td>6.000000</td>\n",
              "      <td>6.000000</td>\n",
              "    </tr>\n",
              "    <tr>\n",
              "      <th>mean</th>\n",
              "      <td>83.356667</td>\n",
              "      <td>1.0</td>\n",
              "      <td>28.553333</td>\n",
              "      <td>17.295000</td>\n",
              "      <td>176.528333</td>\n",
              "      <td>9.613333</td>\n",
              "      <td>8.001667</td>\n",
              "    </tr>\n",
              "    <tr>\n",
              "      <th>std</th>\n",
              "      <td>4.485228</td>\n",
              "      <td>0.0</td>\n",
              "      <td>0.725911</td>\n",
              "      <td>6.243031</td>\n",
              "      <td>50.722204</td>\n",
              "      <td>2.234284</td>\n",
              "      <td>1.790278</td>\n",
              "    </tr>\n",
              "    <tr>\n",
              "      <th>min</th>\n",
              "      <td>78.960000</td>\n",
              "      <td>1.0</td>\n",
              "      <td>27.190000</td>\n",
              "      <td>7.490000</td>\n",
              "      <td>113.080000</td>\n",
              "      <td>7.230000</td>\n",
              "      <td>5.490000</td>\n",
              "    </tr>\n",
              "    <tr>\n",
              "      <th>25%</th>\n",
              "      <td>80.330000</td>\n",
              "      <td>1.0</td>\n",
              "      <td>28.452500</td>\n",
              "      <td>16.000000</td>\n",
              "      <td>139.315000</td>\n",
              "      <td>7.687500</td>\n",
              "      <td>7.007500</td>\n",
              "    </tr>\n",
              "    <tr>\n",
              "      <th>50%</th>\n",
              "      <td>82.240000</td>\n",
              "      <td>1.0</td>\n",
              "      <td>28.765000</td>\n",
              "      <td>16.000000</td>\n",
              "      <td>180.920000</td>\n",
              "      <td>9.625000</td>\n",
              "      <td>7.845000</td>\n",
              "    </tr>\n",
              "    <tr>\n",
              "      <th>75%</th>\n",
              "      <td>84.997500</td>\n",
              "      <td>1.0</td>\n",
              "      <td>29.055000</td>\n",
              "      <td>22.105000</td>\n",
              "      <td>221.362500</td>\n",
              "      <td>10.842500</td>\n",
              "      <td>9.537500</td>\n",
              "    </tr>\n",
              "    <tr>\n",
              "      <th>max</th>\n",
              "      <td>91.090000</td>\n",
              "      <td>1.0</td>\n",
              "      <td>29.100000</td>\n",
              "      <td>24.140000</td>\n",
              "      <td>223.960000</td>\n",
              "      <td>12.910000</td>\n",
              "      <td>10.000000</td>\n",
              "    </tr>\n",
              "  </tbody>\n",
              "</table>\n",
              "</div>\n",
              "      <button class=\"colab-df-convert\" onclick=\"convertToInteractive('df-b4518d2e-d8d4-4e00-96ce-25c6e668ff89')\"\n",
              "              title=\"Convert this dataframe to an interactive table.\"\n",
              "              style=\"display:none;\">\n",
              "        \n",
              "  <svg xmlns=\"http://www.w3.org/2000/svg\" height=\"24px\"viewBox=\"0 0 24 24\"\n",
              "       width=\"24px\">\n",
              "    <path d=\"M0 0h24v24H0V0z\" fill=\"none\"/>\n",
              "    <path d=\"M18.56 5.44l.94 2.06.94-2.06 2.06-.94-2.06-.94-.94-2.06-.94 2.06-2.06.94zm-11 1L8.5 8.5l.94-2.06 2.06-.94-2.06-.94L8.5 2.5l-.94 2.06-2.06.94zm10 10l.94 2.06.94-2.06 2.06-.94-2.06-.94-.94-2.06-.94 2.06-2.06.94z\"/><path d=\"M17.41 7.96l-1.37-1.37c-.4-.4-.92-.59-1.43-.59-.52 0-1.04.2-1.43.59L10.3 9.45l-7.72 7.72c-.78.78-.78 2.05 0 2.83L4 21.41c.39.39.9.59 1.41.59.51 0 1.02-.2 1.41-.59l7.78-7.78 2.81-2.81c.8-.78.8-2.07 0-2.86zM5.41 20L4 18.59l7.72-7.72 1.47 1.35L5.41 20z\"/>\n",
              "  </svg>\n",
              "      </button>\n",
              "      \n",
              "  <style>\n",
              "    .colab-df-container {\n",
              "      display:flex;\n",
              "      flex-wrap:wrap;\n",
              "      gap: 12px;\n",
              "    }\n",
              "\n",
              "    .colab-df-convert {\n",
              "      background-color: #E8F0FE;\n",
              "      border: none;\n",
              "      border-radius: 50%;\n",
              "      cursor: pointer;\n",
              "      display: none;\n",
              "      fill: #1967D2;\n",
              "      height: 32px;\n",
              "      padding: 0 0 0 0;\n",
              "      width: 32px;\n",
              "    }\n",
              "\n",
              "    .colab-df-convert:hover {\n",
              "      background-color: #E2EBFA;\n",
              "      box-shadow: 0px 1px 2px rgba(60, 64, 67, 0.3), 0px 1px 3px 1px rgba(60, 64, 67, 0.15);\n",
              "      fill: #174EA6;\n",
              "    }\n",
              "\n",
              "    [theme=dark] .colab-df-convert {\n",
              "      background-color: #3B4455;\n",
              "      fill: #D2E3FC;\n",
              "    }\n",
              "\n",
              "    [theme=dark] .colab-df-convert:hover {\n",
              "      background-color: #434B5C;\n",
              "      box-shadow: 0px 1px 3px 1px rgba(0, 0, 0, 0.15);\n",
              "      filter: drop-shadow(0px 1px 2px rgba(0, 0, 0, 0.3));\n",
              "      fill: #FFFFFF;\n",
              "    }\n",
              "  </style>\n",
              "\n",
              "      <script>\n",
              "        const buttonEl =\n",
              "          document.querySelector('#df-b4518d2e-d8d4-4e00-96ce-25c6e668ff89 button.colab-df-convert');\n",
              "        buttonEl.style.display =\n",
              "          google.colab.kernel.accessAllowed ? 'block' : 'none';\n",
              "\n",
              "        async function convertToInteractive(key) {\n",
              "          const element = document.querySelector('#df-b4518d2e-d8d4-4e00-96ce-25c6e668ff89');\n",
              "          const dataTable =\n",
              "            await google.colab.kernel.invokeFunction('convertToInteractive',\n",
              "                                                     [key], {});\n",
              "          if (!dataTable) return;\n",
              "\n",
              "          const docLinkHtml = 'Like what you see? Visit the ' +\n",
              "            '<a target=\"_blank\" href=https://colab.research.google.com/notebooks/data_table.ipynb>data table notebook</a>'\n",
              "            + ' to learn more about interactive tables.';\n",
              "          element.innerHTML = '';\n",
              "          dataTable['output_type'] = 'display_data';\n",
              "          await google.colab.output.renderOutput(dataTable, element);\n",
              "          const docLink = document.createElement('div');\n",
              "          docLink.innerHTML = docLinkHtml;\n",
              "          element.appendChild(docLink);\n",
              "        }\n",
              "      </script>\n",
              "    </div>\n",
              "  </div>\n",
              "  "
            ]
          },
          "metadata": {},
          "execution_count": 20
        }
      ]
    },
    {
      "cell_type": "markdown",
      "source": [
        "Statistical value of England"
      ],
      "metadata": {
        "id": "0rj9E0TQkosr"
      }
    },
    {
      "cell_type": "code",
      "source": [
        "England_df.describe()"
      ],
      "metadata": {
        "colab": {
          "base_uri": "https://localhost:8080/",
          "height": 300
        },
        "id": "p2uGCtskksGa",
        "outputId": "acc8df71-da86-4691-f557-e5bdb18274b3"
      },
      "execution_count": 21,
      "outputs": [
        {
          "output_type": "execute_result",
          "data": {
            "text/plain": [
              "        humidity  precipitationType  temperature  visibility  windDirection  \\\n",
              "count   6.000000           6.000000     6.000000    6.000000       6.000000   \n",
              "mean   96.991667           0.333333    17.691667   20.070000      58.308333   \n",
              "std     2.220373           0.516398     1.010216    4.458462       5.124925   \n",
              "min    92.580000           0.000000    15.890000   16.000000      53.250000   \n",
              "25%    97.317500           0.000000    17.587500   16.000000      54.742500   \n",
              "50%    97.575000           0.000000    17.725000   20.070000      57.240000   \n",
              "75%    98.252500           0.750000    18.245000   24.140000      60.157500   \n",
              "max    98.510000           1.000000    18.850000   24.140000      67.080000   \n",
              "\n",
              "        windGust  windSpeed  \n",
              "count   6.000000   6.000000  \n",
              "mean   10.271667   5.571667  \n",
              "std     0.941773   0.609210  \n",
              "min     8.930000   4.860000  \n",
              "25%     9.640000   5.137500  \n",
              "50%    10.410000   5.480000  \n",
              "75%    10.977500   6.025000  \n",
              "max    11.330000   6.380000  "
            ],
            "text/html": [
              "\n",
              "  <div id=\"df-dccb1207-3070-44f9-90c2-09f7be2e3787\">\n",
              "    <div class=\"colab-df-container\">\n",
              "      <div>\n",
              "<style scoped>\n",
              "    .dataframe tbody tr th:only-of-type {\n",
              "        vertical-align: middle;\n",
              "    }\n",
              "\n",
              "    .dataframe tbody tr th {\n",
              "        vertical-align: top;\n",
              "    }\n",
              "\n",
              "    .dataframe thead th {\n",
              "        text-align: right;\n",
              "    }\n",
              "</style>\n",
              "<table border=\"1\" class=\"dataframe\">\n",
              "  <thead>\n",
              "    <tr style=\"text-align: right;\">\n",
              "      <th></th>\n",
              "      <th>humidity</th>\n",
              "      <th>precipitationType</th>\n",
              "      <th>temperature</th>\n",
              "      <th>visibility</th>\n",
              "      <th>windDirection</th>\n",
              "      <th>windGust</th>\n",
              "      <th>windSpeed</th>\n",
              "    </tr>\n",
              "  </thead>\n",
              "  <tbody>\n",
              "    <tr>\n",
              "      <th>count</th>\n",
              "      <td>6.000000</td>\n",
              "      <td>6.000000</td>\n",
              "      <td>6.000000</td>\n",
              "      <td>6.000000</td>\n",
              "      <td>6.000000</td>\n",
              "      <td>6.000000</td>\n",
              "      <td>6.000000</td>\n",
              "    </tr>\n",
              "    <tr>\n",
              "      <th>mean</th>\n",
              "      <td>96.991667</td>\n",
              "      <td>0.333333</td>\n",
              "      <td>17.691667</td>\n",
              "      <td>20.070000</td>\n",
              "      <td>58.308333</td>\n",
              "      <td>10.271667</td>\n",
              "      <td>5.571667</td>\n",
              "    </tr>\n",
              "    <tr>\n",
              "      <th>std</th>\n",
              "      <td>2.220373</td>\n",
              "      <td>0.516398</td>\n",
              "      <td>1.010216</td>\n",
              "      <td>4.458462</td>\n",
              "      <td>5.124925</td>\n",
              "      <td>0.941773</td>\n",
              "      <td>0.609210</td>\n",
              "    </tr>\n",
              "    <tr>\n",
              "      <th>min</th>\n",
              "      <td>92.580000</td>\n",
              "      <td>0.000000</td>\n",
              "      <td>15.890000</td>\n",
              "      <td>16.000000</td>\n",
              "      <td>53.250000</td>\n",
              "      <td>8.930000</td>\n",
              "      <td>4.860000</td>\n",
              "    </tr>\n",
              "    <tr>\n",
              "      <th>25%</th>\n",
              "      <td>97.317500</td>\n",
              "      <td>0.000000</td>\n",
              "      <td>17.587500</td>\n",
              "      <td>16.000000</td>\n",
              "      <td>54.742500</td>\n",
              "      <td>9.640000</td>\n",
              "      <td>5.137500</td>\n",
              "    </tr>\n",
              "    <tr>\n",
              "      <th>50%</th>\n",
              "      <td>97.575000</td>\n",
              "      <td>0.000000</td>\n",
              "      <td>17.725000</td>\n",
              "      <td>20.070000</td>\n",
              "      <td>57.240000</td>\n",
              "      <td>10.410000</td>\n",
              "      <td>5.480000</td>\n",
              "    </tr>\n",
              "    <tr>\n",
              "      <th>75%</th>\n",
              "      <td>98.252500</td>\n",
              "      <td>0.750000</td>\n",
              "      <td>18.245000</td>\n",
              "      <td>24.140000</td>\n",
              "      <td>60.157500</td>\n",
              "      <td>10.977500</td>\n",
              "      <td>6.025000</td>\n",
              "    </tr>\n",
              "    <tr>\n",
              "      <th>max</th>\n",
              "      <td>98.510000</td>\n",
              "      <td>1.000000</td>\n",
              "      <td>18.850000</td>\n",
              "      <td>24.140000</td>\n",
              "      <td>67.080000</td>\n",
              "      <td>11.330000</td>\n",
              "      <td>6.380000</td>\n",
              "    </tr>\n",
              "  </tbody>\n",
              "</table>\n",
              "</div>\n",
              "      <button class=\"colab-df-convert\" onclick=\"convertToInteractive('df-dccb1207-3070-44f9-90c2-09f7be2e3787')\"\n",
              "              title=\"Convert this dataframe to an interactive table.\"\n",
              "              style=\"display:none;\">\n",
              "        \n",
              "  <svg xmlns=\"http://www.w3.org/2000/svg\" height=\"24px\"viewBox=\"0 0 24 24\"\n",
              "       width=\"24px\">\n",
              "    <path d=\"M0 0h24v24H0V0z\" fill=\"none\"/>\n",
              "    <path d=\"M18.56 5.44l.94 2.06.94-2.06 2.06-.94-2.06-.94-.94-2.06-.94 2.06-2.06.94zm-11 1L8.5 8.5l.94-2.06 2.06-.94-2.06-.94L8.5 2.5l-.94 2.06-2.06.94zm10 10l.94 2.06.94-2.06 2.06-.94-2.06-.94-.94-2.06-.94 2.06-2.06.94z\"/><path d=\"M17.41 7.96l-1.37-1.37c-.4-.4-.92-.59-1.43-.59-.52 0-1.04.2-1.43.59L10.3 9.45l-7.72 7.72c-.78.78-.78 2.05 0 2.83L4 21.41c.39.39.9.59 1.41.59.51 0 1.02-.2 1.41-.59l7.78-7.78 2.81-2.81c.8-.78.8-2.07 0-2.86zM5.41 20L4 18.59l7.72-7.72 1.47 1.35L5.41 20z\"/>\n",
              "  </svg>\n",
              "      </button>\n",
              "      \n",
              "  <style>\n",
              "    .colab-df-container {\n",
              "      display:flex;\n",
              "      flex-wrap:wrap;\n",
              "      gap: 12px;\n",
              "    }\n",
              "\n",
              "    .colab-df-convert {\n",
              "      background-color: #E8F0FE;\n",
              "      border: none;\n",
              "      border-radius: 50%;\n",
              "      cursor: pointer;\n",
              "      display: none;\n",
              "      fill: #1967D2;\n",
              "      height: 32px;\n",
              "      padding: 0 0 0 0;\n",
              "      width: 32px;\n",
              "    }\n",
              "\n",
              "    .colab-df-convert:hover {\n",
              "      background-color: #E2EBFA;\n",
              "      box-shadow: 0px 1px 2px rgba(60, 64, 67, 0.3), 0px 1px 3px 1px rgba(60, 64, 67, 0.15);\n",
              "      fill: #174EA6;\n",
              "    }\n",
              "\n",
              "    [theme=dark] .colab-df-convert {\n",
              "      background-color: #3B4455;\n",
              "      fill: #D2E3FC;\n",
              "    }\n",
              "\n",
              "    [theme=dark] .colab-df-convert:hover {\n",
              "      background-color: #434B5C;\n",
              "      box-shadow: 0px 1px 3px 1px rgba(0, 0, 0, 0.15);\n",
              "      filter: drop-shadow(0px 1px 2px rgba(0, 0, 0, 0.3));\n",
              "      fill: #FFFFFF;\n",
              "    }\n",
              "  </style>\n",
              "\n",
              "      <script>\n",
              "        const buttonEl =\n",
              "          document.querySelector('#df-dccb1207-3070-44f9-90c2-09f7be2e3787 button.colab-df-convert');\n",
              "        buttonEl.style.display =\n",
              "          google.colab.kernel.accessAllowed ? 'block' : 'none';\n",
              "\n",
              "        async function convertToInteractive(key) {\n",
              "          const element = document.querySelector('#df-dccb1207-3070-44f9-90c2-09f7be2e3787');\n",
              "          const dataTable =\n",
              "            await google.colab.kernel.invokeFunction('convertToInteractive',\n",
              "                                                     [key], {});\n",
              "          if (!dataTable) return;\n",
              "\n",
              "          const docLinkHtml = 'Like what you see? Visit the ' +\n",
              "            '<a target=\"_blank\" href=https://colab.research.google.com/notebooks/data_table.ipynb>data table notebook</a>'\n",
              "            + ' to learn more about interactive tables.';\n",
              "          element.innerHTML = '';\n",
              "          dataTable['output_type'] = 'display_data';\n",
              "          await google.colab.output.renderOutput(dataTable, element);\n",
              "          const docLink = document.createElement('div');\n",
              "          docLink.innerHTML = docLinkHtml;\n",
              "          element.appendChild(docLink);\n",
              "        }\n",
              "      </script>\n",
              "    </div>\n",
              "  </div>\n",
              "  "
            ]
          },
          "metadata": {},
          "execution_count": 21
        }
      ]
    },
    {
      "cell_type": "code",
      "source": [
        "#Value Count\n",
        "\n",
        "India_df['weatherCode'].value_counts()"
      ],
      "metadata": {
        "colab": {
          "base_uri": "https://localhost:8080/"
        },
        "id": "a_Aegr75k2CS",
        "outputId": "f47cdab2-108b-4fa8-d6d0-15eaa47d3eb5"
      },
      "execution_count": 24,
      "outputs": [
        {
          "output_type": "execute_result",
          "data": {
            "text/plain": [
              "Mostly Clear    2\n",
              "Clear           1\n",
              "Cloudy          1\n",
              "Rain            1\n",
              "Light Rain      1\n",
              "Name: weatherCode, dtype: int64"
            ]
          },
          "metadata": {},
          "execution_count": 24
        }
      ]
    },
    {
      "cell_type": "code",
      "source": [
        "England_df['weatherCode'].value_counts()"
      ],
      "metadata": {
        "colab": {
          "base_uri": "https://localhost:8080/"
        },
        "id": "weQaLSWyk1_p",
        "outputId": "a396ddea-63cf-4ce9-fe4f-84004ca7b12b"
      },
      "execution_count": 25,
      "outputs": [
        {
          "output_type": "execute_result",
          "data": {
            "text/plain": [
              "Clear     4\n",
              "Cloudy    2\n",
              "Name: weatherCode, dtype: int64"
            ]
          },
          "metadata": {},
          "execution_count": 25
        }
      ]
    },
    {
      "cell_type": "markdown",
      "source": [
        "Filter Based on Certain **Condition**"
      ],
      "metadata": {
        "id": "60rJ2OyPlSM8"
      }
    },
    {
      "cell_type": "code",
      "source": [
        "India_df[India_df['weatherCode'] == 'Mostly Clear']"
      ],
      "metadata": {
        "colab": {
          "base_uri": "https://localhost:8080/",
          "height": 112
        },
        "id": "NMZMkiLxlP0l",
        "outputId": "22fa87f5-f619-40cd-80c9-5c2bf85bb301"
      },
      "execution_count": 32,
      "outputs": [
        {
          "output_type": "execute_result",
          "data": {
            "text/plain": [
              "   humidity  precipitationType  temperature  visibility   weatherCode  \\\n",
              "0     82.53                  1        29.10        16.0  Mostly Clear   \n",
              "1     85.82                  1        29.08        16.0  Mostly Clear   \n",
              "\n",
              "   windDirection  windGust  windSpeed  \n",
              "0         219.96      9.06       7.00  \n",
              "1         221.83     12.91       9.83  "
            ],
            "text/html": [
              "\n",
              "  <div id=\"df-4a98676f-7d27-4b15-babc-069934fc2698\">\n",
              "    <div class=\"colab-df-container\">\n",
              "      <div>\n",
              "<style scoped>\n",
              "    .dataframe tbody tr th:only-of-type {\n",
              "        vertical-align: middle;\n",
              "    }\n",
              "\n",
              "    .dataframe tbody tr th {\n",
              "        vertical-align: top;\n",
              "    }\n",
              "\n",
              "    .dataframe thead th {\n",
              "        text-align: right;\n",
              "    }\n",
              "</style>\n",
              "<table border=\"1\" class=\"dataframe\">\n",
              "  <thead>\n",
              "    <tr style=\"text-align: right;\">\n",
              "      <th></th>\n",
              "      <th>humidity</th>\n",
              "      <th>precipitationType</th>\n",
              "      <th>temperature</th>\n",
              "      <th>visibility</th>\n",
              "      <th>weatherCode</th>\n",
              "      <th>windDirection</th>\n",
              "      <th>windGust</th>\n",
              "      <th>windSpeed</th>\n",
              "    </tr>\n",
              "  </thead>\n",
              "  <tbody>\n",
              "    <tr>\n",
              "      <th>0</th>\n",
              "      <td>82.53</td>\n",
              "      <td>1</td>\n",
              "      <td>29.10</td>\n",
              "      <td>16.0</td>\n",
              "      <td>Mostly Clear</td>\n",
              "      <td>219.96</td>\n",
              "      <td>9.06</td>\n",
              "      <td>7.00</td>\n",
              "    </tr>\n",
              "    <tr>\n",
              "      <th>1</th>\n",
              "      <td>85.82</td>\n",
              "      <td>1</td>\n",
              "      <td>29.08</td>\n",
              "      <td>16.0</td>\n",
              "      <td>Mostly Clear</td>\n",
              "      <td>221.83</td>\n",
              "      <td>12.91</td>\n",
              "      <td>9.83</td>\n",
              "    </tr>\n",
              "  </tbody>\n",
              "</table>\n",
              "</div>\n",
              "      <button class=\"colab-df-convert\" onclick=\"convertToInteractive('df-4a98676f-7d27-4b15-babc-069934fc2698')\"\n",
              "              title=\"Convert this dataframe to an interactive table.\"\n",
              "              style=\"display:none;\">\n",
              "        \n",
              "  <svg xmlns=\"http://www.w3.org/2000/svg\" height=\"24px\"viewBox=\"0 0 24 24\"\n",
              "       width=\"24px\">\n",
              "    <path d=\"M0 0h24v24H0V0z\" fill=\"none\"/>\n",
              "    <path d=\"M18.56 5.44l.94 2.06.94-2.06 2.06-.94-2.06-.94-.94-2.06-.94 2.06-2.06.94zm-11 1L8.5 8.5l.94-2.06 2.06-.94-2.06-.94L8.5 2.5l-.94 2.06-2.06.94zm10 10l.94 2.06.94-2.06 2.06-.94-2.06-.94-.94-2.06-.94 2.06-2.06.94z\"/><path d=\"M17.41 7.96l-1.37-1.37c-.4-.4-.92-.59-1.43-.59-.52 0-1.04.2-1.43.59L10.3 9.45l-7.72 7.72c-.78.78-.78 2.05 0 2.83L4 21.41c.39.39.9.59 1.41.59.51 0 1.02-.2 1.41-.59l7.78-7.78 2.81-2.81c.8-.78.8-2.07 0-2.86zM5.41 20L4 18.59l7.72-7.72 1.47 1.35L5.41 20z\"/>\n",
              "  </svg>\n",
              "      </button>\n",
              "      \n",
              "  <style>\n",
              "    .colab-df-container {\n",
              "      display:flex;\n",
              "      flex-wrap:wrap;\n",
              "      gap: 12px;\n",
              "    }\n",
              "\n",
              "    .colab-df-convert {\n",
              "      background-color: #E8F0FE;\n",
              "      border: none;\n",
              "      border-radius: 50%;\n",
              "      cursor: pointer;\n",
              "      display: none;\n",
              "      fill: #1967D2;\n",
              "      height: 32px;\n",
              "      padding: 0 0 0 0;\n",
              "      width: 32px;\n",
              "    }\n",
              "\n",
              "    .colab-df-convert:hover {\n",
              "      background-color: #E2EBFA;\n",
              "      box-shadow: 0px 1px 2px rgba(60, 64, 67, 0.3), 0px 1px 3px 1px rgba(60, 64, 67, 0.15);\n",
              "      fill: #174EA6;\n",
              "    }\n",
              "\n",
              "    [theme=dark] .colab-df-convert {\n",
              "      background-color: #3B4455;\n",
              "      fill: #D2E3FC;\n",
              "    }\n",
              "\n",
              "    [theme=dark] .colab-df-convert:hover {\n",
              "      background-color: #434B5C;\n",
              "      box-shadow: 0px 1px 3px 1px rgba(0, 0, 0, 0.15);\n",
              "      filter: drop-shadow(0px 1px 2px rgba(0, 0, 0, 0.3));\n",
              "      fill: #FFFFFF;\n",
              "    }\n",
              "  </style>\n",
              "\n",
              "      <script>\n",
              "        const buttonEl =\n",
              "          document.querySelector('#df-4a98676f-7d27-4b15-babc-069934fc2698 button.colab-df-convert');\n",
              "        buttonEl.style.display =\n",
              "          google.colab.kernel.accessAllowed ? 'block' : 'none';\n",
              "\n",
              "        async function convertToInteractive(key) {\n",
              "          const element = document.querySelector('#df-4a98676f-7d27-4b15-babc-069934fc2698');\n",
              "          const dataTable =\n",
              "            await google.colab.kernel.invokeFunction('convertToInteractive',\n",
              "                                                     [key], {});\n",
              "          if (!dataTable) return;\n",
              "\n",
              "          const docLinkHtml = 'Like what you see? Visit the ' +\n",
              "            '<a target=\"_blank\" href=https://colab.research.google.com/notebooks/data_table.ipynb>data table notebook</a>'\n",
              "            + ' to learn more about interactive tables.';\n",
              "          element.innerHTML = '';\n",
              "          dataTable['output_type'] = 'display_data';\n",
              "          await google.colab.output.renderOutput(dataTable, element);\n",
              "          const docLink = document.createElement('div');\n",
              "          docLink.innerHTML = docLinkHtml;\n",
              "          element.appendChild(docLink);\n",
              "        }\n",
              "      </script>\n",
              "    </div>\n",
              "  </div>\n",
              "  "
            ]
          },
          "metadata": {},
          "execution_count": 32
        }
      ]
    },
    {
      "cell_type": "code",
      "source": [
        "England_df[England_df['weatherCode'] == 'Clear']"
      ],
      "metadata": {
        "colab": {
          "base_uri": "https://localhost:8080/",
          "height": 175
        },
        "id": "G6aE3UColQBS",
        "outputId": "ba6e34c8-6a9f-411c-fce4-e3e3ddf1064b"
      },
      "execution_count": 33,
      "outputs": [
        {
          "output_type": "execute_result",
          "data": {
            "text/plain": [
              "   humidity  precipitationType  temperature  visibility weatherCode  \\\n",
              "0     97.46                  0        18.38       16.00       Clear   \n",
              "1     98.51                  0        18.85       16.00       Clear   \n",
              "4     97.69                  0        17.61       24.14       Clear   \n",
              "5     92.58                  0        17.58       24.14       Clear   \n",
              "\n",
              "   windDirection  windGust  windSpeed  \n",
              "0          53.25     10.00       5.13  \n",
              "1          57.06      8.93       4.86  \n",
              "4          61.07     11.03       6.10  \n",
              "5          67.08     11.33       6.38  "
            ],
            "text/html": [
              "\n",
              "  <div id=\"df-507ca96f-1336-422b-8c3c-d5b4b19ed624\">\n",
              "    <div class=\"colab-df-container\">\n",
              "      <div>\n",
              "<style scoped>\n",
              "    .dataframe tbody tr th:only-of-type {\n",
              "        vertical-align: middle;\n",
              "    }\n",
              "\n",
              "    .dataframe tbody tr th {\n",
              "        vertical-align: top;\n",
              "    }\n",
              "\n",
              "    .dataframe thead th {\n",
              "        text-align: right;\n",
              "    }\n",
              "</style>\n",
              "<table border=\"1\" class=\"dataframe\">\n",
              "  <thead>\n",
              "    <tr style=\"text-align: right;\">\n",
              "      <th></th>\n",
              "      <th>humidity</th>\n",
              "      <th>precipitationType</th>\n",
              "      <th>temperature</th>\n",
              "      <th>visibility</th>\n",
              "      <th>weatherCode</th>\n",
              "      <th>windDirection</th>\n",
              "      <th>windGust</th>\n",
              "      <th>windSpeed</th>\n",
              "    </tr>\n",
              "  </thead>\n",
              "  <tbody>\n",
              "    <tr>\n",
              "      <th>0</th>\n",
              "      <td>97.46</td>\n",
              "      <td>0</td>\n",
              "      <td>18.38</td>\n",
              "      <td>16.00</td>\n",
              "      <td>Clear</td>\n",
              "      <td>53.25</td>\n",
              "      <td>10.00</td>\n",
              "      <td>5.13</td>\n",
              "    </tr>\n",
              "    <tr>\n",
              "      <th>1</th>\n",
              "      <td>98.51</td>\n",
              "      <td>0</td>\n",
              "      <td>18.85</td>\n",
              "      <td>16.00</td>\n",
              "      <td>Clear</td>\n",
              "      <td>57.06</td>\n",
              "      <td>8.93</td>\n",
              "      <td>4.86</td>\n",
              "    </tr>\n",
              "    <tr>\n",
              "      <th>4</th>\n",
              "      <td>97.69</td>\n",
              "      <td>0</td>\n",
              "      <td>17.61</td>\n",
              "      <td>24.14</td>\n",
              "      <td>Clear</td>\n",
              "      <td>61.07</td>\n",
              "      <td>11.03</td>\n",
              "      <td>6.10</td>\n",
              "    </tr>\n",
              "    <tr>\n",
              "      <th>5</th>\n",
              "      <td>92.58</td>\n",
              "      <td>0</td>\n",
              "      <td>17.58</td>\n",
              "      <td>24.14</td>\n",
              "      <td>Clear</td>\n",
              "      <td>67.08</td>\n",
              "      <td>11.33</td>\n",
              "      <td>6.38</td>\n",
              "    </tr>\n",
              "  </tbody>\n",
              "</table>\n",
              "</div>\n",
              "      <button class=\"colab-df-convert\" onclick=\"convertToInteractive('df-507ca96f-1336-422b-8c3c-d5b4b19ed624')\"\n",
              "              title=\"Convert this dataframe to an interactive table.\"\n",
              "              style=\"display:none;\">\n",
              "        \n",
              "  <svg xmlns=\"http://www.w3.org/2000/svg\" height=\"24px\"viewBox=\"0 0 24 24\"\n",
              "       width=\"24px\">\n",
              "    <path d=\"M0 0h24v24H0V0z\" fill=\"none\"/>\n",
              "    <path d=\"M18.56 5.44l.94 2.06.94-2.06 2.06-.94-2.06-.94-.94-2.06-.94 2.06-2.06.94zm-11 1L8.5 8.5l.94-2.06 2.06-.94-2.06-.94L8.5 2.5l-.94 2.06-2.06.94zm10 10l.94 2.06.94-2.06 2.06-.94-2.06-.94-.94-2.06-.94 2.06-2.06.94z\"/><path d=\"M17.41 7.96l-1.37-1.37c-.4-.4-.92-.59-1.43-.59-.52 0-1.04.2-1.43.59L10.3 9.45l-7.72 7.72c-.78.78-.78 2.05 0 2.83L4 21.41c.39.39.9.59 1.41.59.51 0 1.02-.2 1.41-.59l7.78-7.78 2.81-2.81c.8-.78.8-2.07 0-2.86zM5.41 20L4 18.59l7.72-7.72 1.47 1.35L5.41 20z\"/>\n",
              "  </svg>\n",
              "      </button>\n",
              "      \n",
              "  <style>\n",
              "    .colab-df-container {\n",
              "      display:flex;\n",
              "      flex-wrap:wrap;\n",
              "      gap: 12px;\n",
              "    }\n",
              "\n",
              "    .colab-df-convert {\n",
              "      background-color: #E8F0FE;\n",
              "      border: none;\n",
              "      border-radius: 50%;\n",
              "      cursor: pointer;\n",
              "      display: none;\n",
              "      fill: #1967D2;\n",
              "      height: 32px;\n",
              "      padding: 0 0 0 0;\n",
              "      width: 32px;\n",
              "    }\n",
              "\n",
              "    .colab-df-convert:hover {\n",
              "      background-color: #E2EBFA;\n",
              "      box-shadow: 0px 1px 2px rgba(60, 64, 67, 0.3), 0px 1px 3px 1px rgba(60, 64, 67, 0.15);\n",
              "      fill: #174EA6;\n",
              "    }\n",
              "\n",
              "    [theme=dark] .colab-df-convert {\n",
              "      background-color: #3B4455;\n",
              "      fill: #D2E3FC;\n",
              "    }\n",
              "\n",
              "    [theme=dark] .colab-df-convert:hover {\n",
              "      background-color: #434B5C;\n",
              "      box-shadow: 0px 1px 3px 1px rgba(0, 0, 0, 0.15);\n",
              "      filter: drop-shadow(0px 1px 2px rgba(0, 0, 0, 0.3));\n",
              "      fill: #FFFFFF;\n",
              "    }\n",
              "  </style>\n",
              "\n",
              "      <script>\n",
              "        const buttonEl =\n",
              "          document.querySelector('#df-507ca96f-1336-422b-8c3c-d5b4b19ed624 button.colab-df-convert');\n",
              "        buttonEl.style.display =\n",
              "          google.colab.kernel.accessAllowed ? 'block' : 'none';\n",
              "\n",
              "        async function convertToInteractive(key) {\n",
              "          const element = document.querySelector('#df-507ca96f-1336-422b-8c3c-d5b4b19ed624');\n",
              "          const dataTable =\n",
              "            await google.colab.kernel.invokeFunction('convertToInteractive',\n",
              "                                                     [key], {});\n",
              "          if (!dataTable) return;\n",
              "\n",
              "          const docLinkHtml = 'Like what you see? Visit the ' +\n",
              "            '<a target=\"_blank\" href=https://colab.research.google.com/notebooks/data_table.ipynb>data table notebook</a>'\n",
              "            + ' to learn more about interactive tables.';\n",
              "          element.innerHTML = '';\n",
              "          dataTable['output_type'] = 'display_data';\n",
              "          await google.colab.output.renderOutput(dataTable, element);\n",
              "          const docLink = document.createElement('div');\n",
              "          docLink.innerHTML = docLinkHtml;\n",
              "          element.appendChild(docLink);\n",
              "        }\n",
              "      </script>\n",
              "    </div>\n",
              "  </div>\n",
              "  "
            ]
          },
          "metadata": {},
          "execution_count": 33
        }
      ]
    },
    {
      "cell_type": "markdown",
      "source": [
        "**Data Visualization**"
      ],
      "metadata": {
        "id": "Soo7g2qoqNvq"
      }
    },
    {
      "cell_type": "code",
      "source": [
        "import matplotlib\n",
        "import matplotlib.pyplot as plt\n"
      ],
      "metadata": {
        "id": "e7laBrARlQFD"
      },
      "execution_count": 34,
      "outputs": []
    },
    {
      "cell_type": "code",
      "source": [
        "India_df['temperature'].plot.bar(xlabel = 'Day',ylabel='Temperature',color='Orange',width=0.4)"
      ],
      "metadata": {
        "colab": {
          "base_uri": "https://localhost:8080/",
          "height": 462
        },
        "id": "DWonqh33lQKb",
        "outputId": "20ff9b2a-ff40-49e7-a031-a7add019950a"
      },
      "execution_count": 38,
      "outputs": [
        {
          "output_type": "execute_result",
          "data": {
            "text/plain": [
              "<Axes: xlabel='Day', ylabel='Temperature'>"
            ]
          },
          "metadata": {},
          "execution_count": 38
        },
        {
          "output_type": "display_data",
          "data": {
            "text/plain": [
              "<Figure size 640x480 with 1 Axes>"
            ],
            "image/png": "[encoded data removed]"
          },
          "metadata": {}
        }
      ]
    },
    {
      "cell_type": "code",
      "source": [
        "India_df['temperature'].plot.bar(x = 'weatherCode', y='temperature',xlabel = 'weaterCode',ylabel='Temperature',color='Orange',width=0.4)"
      ],
      "metadata": {
        "colab": {
          "base_uri": "https://localhost:8080/",
          "height": 462
        },
        "id": "E-iXtO_clQOT",
        "outputId": "0e30427f-16ba-485b-c422-72caa4ecbe2d"
      },
      "execution_count": 41,
      "outputs": [
        {
          "output_type": "execute_result",
          "data": {
            "text/plain": [
              "<Axes: xlabel='weaterCode', ylabel='Temperature'>"
            ]
          },
          "metadata": {},
          "execution_count": 41
        },
        {
          "output_type": "display_data",
          "data": {
            "text/plain": [
              "<Figure size 640x480 with 1 Axes>"
            ],
            "image/png": "[encoded data removed]"
          },
          "metadata": {}
        }
      ]
    },
    {
      "cell_type": "code",
      "source": [
        "barplot = pd.DataFrame({'India': India_df['temperature'], 'England': England_df['temperature']})\n",
        "barplot.plot.bar(width = 0.3)"
      ],
      "metadata": {
        "colab": {
          "base_uri": "https://localhost:8080/",
          "height": 443
        },
        "id": "yL-86rldlQTD",
        "outputId": "24a64fa3-8adb-4161-a525-7dc7c3952e1c"
      },
      "execution_count": 43,
      "outputs": [
        {
          "output_type": "execute_result",
          "data": {
            "text/plain": [
              "<Axes: >"
            ]
          },
          "metadata": {},
          "execution_count": 43
        },
        {
          "output_type": "display_data",
          "data": {
            "text/plain": [
              "<Figure size 640x480 with 1 Axes>"
            ],
            "image/png": "[encoded data removed]"
          },
          "metadata": {}
        }
      ]
    },
    {
      "cell_type": "code",
      "source": [
        "weather = dict(England_df['weatherCode'].value_counts())\n",
        "series = pd.Series(weather.values(), index=weather.keys(), name=\"Weather\")\n",
        "series.plot.pie()"
      ],
      "metadata": {
        "colab": {
          "base_uri": "https://localhost:8080/",
          "height": 424
        },
        "id": "UJqRBvIBlQW_",
        "outputId": "8d6284c1-415d-4cc6-f2ca-ab428381c512"
      },
      "execution_count": 45,
      "outputs": [
        {
          "output_type": "execute_result",
          "data": {
            "text/plain": [
              "<Axes: ylabel='Weather'>"
            ]
          },
          "metadata": {},
          "execution_count": 45
        },
        {
          "output_type": "display_data",
          "data": {
            "text/plain": [
              "<Figure size 640x480 with 1 Axes>"
            ],
            "image/png": "[encoded data removed]"
          },
          "metadata": {}
        }
      ]
    },
    {
      "cell_type": "code",
      "source": [
        "weather = dict(India_df['weatherCode'].value_counts())\n",
        "series = pd.Series(weather.values(), index=weather.keys(), name=\"Weather\")\n",
        "series.plot.pie()"
      ],
      "metadata": {
        "colab": {
          "base_uri": "https://localhost:8080/",
          "height": 424
        },
        "id": "ow9e8E_8lQac",
        "outputId": "e6b576ec-aae3-4843-a9fa-ace4821067b8"
      },
      "execution_count": 46,
      "outputs": [
        {
          "output_type": "execute_result",
          "data": {
            "text/plain": [
              "<Axes: ylabel='Weather'>"
            ]
          },
          "metadata": {},
          "execution_count": 46
        },
        {
          "output_type": "display_data",
          "data": {
            "text/plain": [
              "<Figure size 640x480 with 1 Axes>"
            ],
            "image/png": "[encoded data removed]"
          },
          "metadata": {}
        }
      ]
    },
    {
      "cell_type": "code",
      "source": [
        " "
      ],
      "metadata": {
        "id": "l2SWEOdR19fi"
      },
      "execution_count": null,
      "outputs": []
    },
    {
      "cell_type": "markdown",
      "source": [
        "Q1.Find all the Unique weatherCode value in the India and England data."
      ],
      "metadata": {
        "id": "sc8GotZ21qs9"
      }
    },
    {
      "cell_type": "code",
      "source": [
        "India_df.nunique()"
      ],
      "metadata": {
        "colab": {
          "base_uri": "https://localhost:8080/"
        },
        "id": "SZq8ljv6lQdy",
        "outputId": "3afeacf8-f07d-4db3-f675-0da6a0a9225f"
      },
      "execution_count": 47,
      "outputs": [
        {
          "output_type": "execute_result",
          "data": {
            "text/plain": [
              "humidity             6\n",
              "precipitationType    1\n",
              "temperature          6\n",
              "visibility           3\n",
              "weatherCode          5\n",
              "windDirection        6\n",
              "windGust             5\n",
              "windSpeed            6\n",
              "dtype: int64"
            ]
          },
          "metadata": {},
          "execution_count": 47
        }
      ]
    },
    {
      "cell_type": "code",
      "source": [
        "England_df.nunique()"
      ],
      "metadata": {
        "colab": {
          "base_uri": "https://localhost:8080/"
        },
        "id": "aEOQ4t7B2XkR",
        "outputId": "0b9ebf8f-f1e3-4d2a-e0ed-411b5cf55fe0"
      },
      "execution_count": 48,
      "outputs": [
        {
          "output_type": "execute_result",
          "data": {
            "text/plain": [
              "humidity             6\n",
              "precipitationType    2\n",
              "temperature          6\n",
              "visibility           2\n",
              "weatherCode          2\n",
              "windDirection        6\n",
              "windGust             6\n",
              "windSpeed            6\n",
              "dtype: int64"
            ]
          },
          "metadata": {},
          "execution_count": 48
        }
      ]
    },
    {
      "cell_type": "markdown",
      "source": [
        "Q2.Find the number of time when the 'weatherCode exactly clear'"
      ],
      "metadata": {
        "id": "zj6nPCZf2nDv"
      }
    },
    {
      "cell_type": "code",
      "source": [
        "India_df['weatherCode'].value_counts()"
      ],
      "metadata": {
        "colab": {
          "base_uri": "https://localhost:8080/"
        },
        "id": "WhK03TVN2eXQ",
        "outputId": "cfaf1da7-ca3b-4e16-c8c7-c6c3b3ef4994"
      },
      "execution_count": 49,
      "outputs": [
        {
          "output_type": "execute_result",
          "data": {
            "text/plain": [
              "Mostly Clear    2\n",
              "Clear           1\n",
              "Cloudy          1\n",
              "Rain            1\n",
              "Light Rain      1\n",
              "Name: weatherCode, dtype: int64"
            ]
          },
          "metadata": {},
          "execution_count": 49
        }
      ]
    },
    {
      "cell_type": "code",
      "source": [
        "England_df['weatherCode'].value_counts()"
      ],
      "metadata": {
        "colab": {
          "base_uri": "https://localhost:8080/"
        },
        "id": "GxD48t0t3FEj",
        "outputId": "137e3d80-4a1e-4050-f2f9-13c3eab01847"
      },
      "execution_count": 50,
      "outputs": [
        {
          "output_type": "execute_result",
          "data": {
            "text/plain": [
              "Clear     4\n",
              "Cloudy    2\n",
              "Name: weatherCode, dtype: int64"
            ]
          },
          "metadata": {},
          "execution_count": 50
        }
      ]
    },
    {
      "cell_type": "markdown",
      "source": [
        "Q3.Whats is the mean, standard Deviation and varience of humididty and temperature"
      ],
      "metadata": {
        "id": "YaolxzkN3LFQ"
      }
    },
    {
      "cell_type": "code",
      "source": [
        "India_df.humidity.mean()"
      ],
      "metadata": {
        "colab": {
          "base_uri": "https://localhost:8080/"
        },
        "id": "r1r3L_kw4K-S",
        "outputId": "02987abc-e29f-4aa5-b9d2-98d8af471759"
      },
      "execution_count": 52,
      "outputs": [
        {
          "output_type": "execute_result",
          "data": {
            "text/plain": [
              "83.35666666666667"
            ]
          },
          "metadata": {},
          "execution_count": 52
        }
      ]
    },
    {
      "cell_type": "code",
      "source": [
        "England_df.humidity.mean()"
      ],
      "metadata": {
        "colab": {
          "base_uri": "https://localhost:8080/"
        },
        "id": "a2d6_hlx4fxh",
        "outputId": "9cbe8a7c-9c1e-4b45-8233-fd967bdb7849"
      },
      "execution_count": 53,
      "outputs": [
        {
          "output_type": "execute_result",
          "data": {
            "text/plain": [
              "96.99166666666667"
            ]
          },
          "metadata": {},
          "execution_count": 53
        }
      ]
    },
    {
      "cell_type": "code",
      "source": [
        "India_df.temperature.mean()"
      ],
      "metadata": {
        "colab": {
          "base_uri": "https://localhost:8080/"
        },
        "id": "IL0EqKRq4gAS",
        "outputId": "893b13cc-9556-4da4-fc7d-21b730f3610d"
      },
      "execution_count": 54,
      "outputs": [
        {
          "output_type": "execute_result",
          "data": {
            "text/plain": [
              "28.55333333333333"
            ]
          },
          "metadata": {},
          "execution_count": 54
        }
      ]
    },
    {
      "cell_type": "code",
      "source": [
        "England_df.temperature.mean()"
      ],
      "metadata": {
        "colab": {
          "base_uri": "https://localhost:8080/"
        },
        "id": "5Tk0dTU14vwi",
        "outputId": "9441d7df-c779-4a19-fa87-663254862657"
      },
      "execution_count": 55,
      "outputs": [
        {
          "output_type": "execute_result",
          "data": {
            "text/plain": [
              "17.691666666666666"
            ]
          },
          "metadata": {},
          "execution_count": 55
        }
      ]
    },
    {
      "cell_type": "code",
      "source": [
        "India_df.humidity.std()"
      ],
      "metadata": {
        "colab": {
          "base_uri": "https://localhost:8080/"
        },
        "id": "TGloRmbV4v-M",
        "outputId": "fb8ca9fe-f0ca-425d-ef4d-41a444ee8dfb"
      },
      "execution_count": 56,
      "outputs": [
        {
          "output_type": "execute_result",
          "data": {
            "text/plain": [
              "4.485227604778454"
            ]
          },
          "metadata": {},
          "execution_count": 56
        }
      ]
    },
    {
      "cell_type": "code",
      "source": [
        "India_df.temperature.std()"
      ],
      "metadata": {
        "colab": {
          "base_uri": "https://localhost:8080/"
        },
        "id": "sOu4mY5a4wFq",
        "outputId": "c55c4b8c-3025-4734-f52b-60dc392c4ceb"
      },
      "execution_count": 57,
      "outputs": [
        {
          "output_type": "execute_result",
          "data": {
            "text/plain": [
              "0.7259109219915801"
            ]
          },
          "metadata": {},
          "execution_count": 57
        }
      ]
    },
    {
      "cell_type": "code",
      "source": [
        "England_df.temperature.std()"
      ],
      "metadata": {
        "colab": {
          "base_uri": "https://localhost:8080/"
        },
        "id": "XOVsor7m4wNC",
        "outputId": "532552c8-8e5f-427e-d38c-7aef4d73ad74"
      },
      "execution_count": 58,
      "outputs": [
        {
          "output_type": "execute_result",
          "data": {
            "text/plain": [
              "1.0102161484883652"
            ]
          },
          "metadata": {},
          "execution_count": 58
        }
      ]
    },
    {
      "cell_type": "code",
      "source": [
        "England_df.humidity.std()"
      ],
      "metadata": {
        "colab": {
          "base_uri": "https://localhost:8080/"
        },
        "id": "GNxMfCnO4wRA",
        "outputId": "def94367-1f97-4031-a1f4-6cc1ccfa82d0"
      },
      "execution_count": 59,
      "outputs": [
        {
          "output_type": "execute_result",
          "data": {
            "text/plain": [
              "2.220373091772342"
            ]
          },
          "metadata": {},
          "execution_count": 59
        }
      ]
    },
    {
      "cell_type": "code",
      "source": [
        "India_df['temperature'].var()"
      ],
      "metadata": {
        "colab": {
          "base_uri": "https://localhost:8080/"
        },
        "id": "o1VNaXz-4wXH",
        "outputId": "a3f3a76f-133f-44ac-810e-5004fa32e928"
      },
      "execution_count": 61,
      "outputs": [
        {
          "output_type": "execute_result",
          "data": {
            "text/plain": [
              "0.5269466666666659"
            ]
          },
          "metadata": {},
          "execution_count": 61
        }
      ]
    },
    {
      "cell_type": "code",
      "source": [
        "India_df['humidity'].var()"
      ],
      "metadata": {
        "colab": {
          "base_uri": "https://localhost:8080/"
        },
        "id": "yWR1WzOz4wbz",
        "outputId": "27fe5d34-ff34-49e8-a4ae-50ddd9e87735"
      },
      "execution_count": 62,
      "outputs": [
        {
          "output_type": "execute_result",
          "data": {
            "text/plain": [
              "20.11726666666667"
            ]
          },
          "metadata": {},
          "execution_count": 62
        }
      ]
    },
    {
      "cell_type": "code",
      "source": [
        "England_df['temperature'].var()"
      ],
      "metadata": {
        "colab": {
          "base_uri": "https://localhost:8080/"
        },
        "id": "VmKatH9e5Vta",
        "outputId": "2d810e23-2e13-4427-d185-003d933bd9c4"
      },
      "execution_count": 63,
      "outputs": [
        {
          "output_type": "execute_result",
          "data": {
            "text/plain": [
              "1.0205366666666669"
            ]
          },
          "metadata": {},
          "execution_count": 63
        }
      ]
    },
    {
      "cell_type": "code",
      "source": [
        "England_df['temperature'].var()"
      ],
      "metadata": {
        "colab": {
          "base_uri": "https://localhost:8080/"
        },
        "id": "f3iEKNKg5V7E",
        "outputId": "8c024c29-6100-4ad5-81a3-6e2515e2082d"
      },
      "execution_count": 64,
      "outputs": [
        {
          "output_type": "execute_result",
          "data": {
            "text/plain": [
              "1.0205366666666669"
            ]
          },
          "metadata": {},
          "execution_count": 64
        }
      ]
    },
    {
      "cell_type": "markdown",
      "source": [
        "Q4.Find all the null values."
      ],
      "metadata": {
        "id": "w2EX14745p73"
      }
    },
    {
      "cell_type": "code",
      "source": [
        "India_df.isnull().sum()"
      ],
      "metadata": {
        "colab": {
          "base_uri": "https://localhost:8080/"
        },
        "id": "znpYBTVw5imG",
        "outputId": "3b93daad-db82-44b8-db27-99c6860ea28a"
      },
      "execution_count": 65,
      "outputs": [
        {
          "output_type": "execute_result",
          "data": {
            "text/plain": [
              "humidity             0\n",
              "precipitationType    0\n",
              "temperature          0\n",
              "visibility           0\n",
              "weatherCode          0\n",
              "windDirection        0\n",
              "windGust             0\n",
              "windSpeed            0\n",
              "dtype: int64"
            ]
          },
          "metadata": {},
          "execution_count": 65
        }
      ]
    },
    {
      "cell_type": "code",
      "source": [
        "England_df.isnull().sum()"
      ],
      "metadata": {
        "colab": {
          "base_uri": "https://localhost:8080/"
        },
        "id": "BPcnEQI75ipq",
        "outputId": "d3429cf7-adf5-430d-d2be-e0ea2343e61c"
      },
      "execution_count": 66,
      "outputs": [
        {
          "output_type": "execute_result",
          "data": {
            "text/plain": [
              "humidity             0\n",
              "precipitationType    0\n",
              "temperature          0\n",
              "visibility           0\n",
              "weatherCode          0\n",
              "windDirection        0\n",
              "windGust             0\n",
              "windSpeed            0\n",
              "dtype: int64"
            ]
          },
          "metadata": {},
          "execution_count": 66
        }
      ]
    },
    {
      "cell_type": "markdown",
      "source": [
        "Q5.Rename the Column name windSpeed int0 windSpeed in Km/hr"
      ],
      "metadata": {
        "id": "Ahr-qMTM57oi"
      }
    },
    {
      "cell_type": "code",
      "source": [
        "India_df.rename(columns={'windSpeed' : 'windSpeed in km/hr'})"
      ],
      "metadata": {
        "colab": {
          "base_uri": "https://localhost:8080/",
          "height": 237
        },
        "id": "C34B7wEq5iuw",
        "outputId": "32b7a71f-9c41-432c-8506-22fecee83d99"
      },
      "execution_count": 67,
      "outputs": [
        {
          "output_type": "execute_result",
          "data": {
            "text/plain": [
              "   humidity  precipitationType  temperature  visibility   weatherCode  \\\n",
              "0     82.53                  1        29.10       16.00  Mostly Clear   \n",
              "1     85.82                  1        29.08       16.00  Mostly Clear   \n",
              "2     78.96                  1        28.98       16.00         Clear   \n",
              "3     81.95                  1        28.55       24.14        Cloudy   \n",
              "4     91.09                  1        28.42       24.14          Rain   \n",
              "5     79.79                  1        27.19        7.49    Light Rain   \n",
              "\n",
              "   windDirection  windGust  windSpeed in km/hr  \n",
              "0         219.96      9.06                7.00  \n",
              "1         221.83     12.91                9.83  \n",
              "2         223.96      7.23                5.49  \n",
              "3         141.88      7.23                7.03  \n",
              "4         113.08     11.06               10.00  \n",
              "5         138.46     10.19                8.66  "
            ],
            "text/html": [
              "\n",
              "  <div id=\"df-41ded841-082d-414f-aa53-b2bf81c9fa67\">\n",
              "    <div class=\"colab-df-container\">\n",
              "      <div>\n",
              "<style scoped>\n",
              "    .dataframe tbody tr th:only-of-type {\n",
              "        vertical-align: middle;\n",
              "    }\n",
              "\n",
              "    .dataframe tbody tr th {\n",
              "        vertical-align: top;\n",
              "    }\n",
              "\n",
              "    .dataframe thead th {\n",
              "        text-align: right;\n",
              "    }\n",
              "</style>\n",
              "<table border=\"1\" class=\"dataframe\">\n",
              "  <thead>\n",
              "    <tr style=\"text-align: right;\">\n",
              "      <th></th>\n",
              "      <th>humidity</th>\n",
              "      <th>precipitationType</th>\n",
              "      <th>temperature</th>\n",
              "      <th>visibility</th>\n",
              "      <th>weatherCode</th>\n",
              "      <th>windDirection</th>\n",
              "      <th>windGust</th>\n",
              "      <th>windSpeed in km/hr</th>\n",
              "    </tr>\n",
              "  </thead>\n",
              "  <tbody>\n",
              "    <tr>\n",
              "      <th>0</th>\n",
              "      <td>82.53</td>\n",
              "      <td>1</td>\n",
              "      <td>29.10</td>\n",
              "      <td>16.00</td>\n",
              "      <td>Mostly Clear</td>\n",
              "      <td>219.96</td>\n",
              "      <td>9.06</td>\n",
              "      <td>7.00</td>\n",
              "    </tr>\n",
              "    <tr>\n",
              "      <th>1</th>\n",
              "      <td>85.82</td>\n",
              "      <td>1</td>\n",
              "      <td>29.08</td>\n",
              "      <td>16.00</td>\n",
              "      <td>Mostly Clear</td>\n",
              "      <td>221.83</td>\n",
              "      <td>12.91</td>\n",
              "      <td>9.83</td>\n",
              "    </tr>\n",
              "    <tr>\n",
              "      <th>2</th>\n",
              "      <td>78.96</td>\n",
              "      <td>1</td>\n",
              "      <td>28.98</td>\n",
              "      <td>16.00</td>\n",
              "      <td>Clear</td>\n",
              "      <td>223.96</td>\n",
              "      <td>7.23</td>\n",
              "      <td>5.49</td>\n",
              "    </tr>\n",
              "    <tr>\n",
              "      <th>3</th>\n",
              "      <td>81.95</td>\n",
              "      <td>1</td>\n",
              "      <td>28.55</td>\n",
              "      <td>24.14</td>\n",
              "      <td>Cloudy</td>\n",
              "      <td>141.88</td>\n",
              "      <td>7.23</td>\n",
              "      <td>7.03</td>\n",
              "    </tr>\n",
              "    <tr>\n",
              "      <th>4</th>\n",
              "      <td>91.09</td>\n",
              "      <td>1</td>\n",
              "      <td>28.42</td>\n",
              "      <td>24.14</td>\n",
              "      <td>Rain</td>\n",
              "      <td>113.08</td>\n",
              "      <td>11.06</td>\n",
              "      <td>10.00</td>\n",
              "    </tr>\n",
              "    <tr>\n",
              "      <th>5</th>\n",
              "      <td>79.79</td>\n",
              "      <td>1</td>\n",
              "      <td>27.19</td>\n",
              "      <td>7.49</td>\n",
              "      <td>Light Rain</td>\n",
              "      <td>138.46</td>\n",
              "      <td>10.19</td>\n",
              "      <td>8.66</td>\n",
              "    </tr>\n",
              "  </tbody>\n",
              "</table>\n",
              "</div>\n",
              "      <button class=\"colab-df-convert\" onclick=\"convertToInteractive('df-41ded841-082d-414f-aa53-b2bf81c9fa67')\"\n",
              "              title=\"Convert this dataframe to an interactive table.\"\n",
              "              style=\"display:none;\">\n",
              "        \n",
              "  <svg xmlns=\"http://www.w3.org/2000/svg\" height=\"24px\"viewBox=\"0 0 24 24\"\n",
              "       width=\"24px\">\n",
              "    <path d=\"M0 0h24v24H0V0z\" fill=\"none\"/>\n",
              "    <path d=\"M18.56 5.44l.94 2.06.94-2.06 2.06-.94-2.06-.94-.94-2.06-.94 2.06-2.06.94zm-11 1L8.5 8.5l.94-2.06 2.06-.94-2.06-.94L8.5 2.5l-.94 2.06-2.06.94zm10 10l.94 2.06.94-2.06 2.06-.94-2.06-.94-.94-2.06-.94 2.06-2.06.94z\"/><path d=\"M17.41 7.96l-1.37-1.37c-.4-.4-.92-.59-1.43-.59-.52 0-1.04.2-1.43.59L10.3 9.45l-7.72 7.72c-.78.78-.78 2.05 0 2.83L4 21.41c.39.39.9.59 1.41.59.51 0 1.02-.2 1.41-.59l7.78-7.78 2.81-2.81c.8-.78.8-2.07 0-2.86zM5.41 20L4 18.59l7.72-7.72 1.47 1.35L5.41 20z\"/>\n",
              "  </svg>\n",
              "      </button>\n",
              "      \n",
              "  <style>\n",
              "    .colab-df-container {\n",
              "      display:flex;\n",
              "      flex-wrap:wrap;\n",
              "      gap: 12px;\n",
              "    }\n",
              "\n",
              "    .colab-df-convert {\n",
              "      background-color: #E8F0FE;\n",
              "      border: none;\n",
              "      border-radius: 50%;\n",
              "      cursor: pointer;\n",
              "      display: none;\n",
              "      fill: #1967D2;\n",
              "      height: 32px;\n",
              "      padding: 0 0 0 0;\n",
              "      width: 32px;\n",
              "    }\n",
              "\n",
              "    .colab-df-convert:hover {\n",
              "      background-color: #E2EBFA;\n",
              "      box-shadow: 0px 1px 2px rgba(60, 64, 67, 0.3), 0px 1px 3px 1px rgba(60, 64, 67, 0.15);\n",
              "      fill: #174EA6;\n",
              "    }\n",
              "\n",
              "    [theme=dark] .colab-df-convert {\n",
              "      background-color: #3B4455;\n",
              "      fill: #D2E3FC;\n",
              "    }\n",
              "\n",
              "    [theme=dark] .colab-df-convert:hover {\n",
              "      background-color: #434B5C;\n",
              "      box-shadow: 0px 1px 3px 1px rgba(0, 0, 0, 0.15);\n",
              "      filter: drop-shadow(0px 1px 2px rgba(0, 0, 0, 0.3));\n",
              "      fill: #FFFFFF;\n",
              "    }\n",
              "  </style>\n",
              "\n",
              "      <script>\n",
              "        const buttonEl =\n",
              "          document.querySelector('#df-41ded841-082d-414f-aa53-b2bf81c9fa67 button.colab-df-convert');\n",
              "        buttonEl.style.display =\n",
              "          google.colab.kernel.accessAllowed ? 'block' : 'none';\n",
              "\n",
              "        async function convertToInteractive(key) {\n",
              "          const element = document.querySelector('#df-41ded841-082d-414f-aa53-b2bf81c9fa67');\n",
              "          const dataTable =\n",
              "            await google.colab.kernel.invokeFunction('convertToInteractive',\n",
              "                                                     [key], {});\n",
              "          if (!dataTable) return;\n",
              "\n",
              "          const docLinkHtml = 'Like what you see? Visit the ' +\n",
              "            '<a target=\"_blank\" href=https://colab.research.google.com/notebooks/data_table.ipynb>data table notebook</a>'\n",
              "            + ' to learn more about interactive tables.';\n",
              "          element.innerHTML = '';\n",
              "          dataTable['output_type'] = 'display_data';\n",
              "          await google.colab.output.renderOutput(dataTable, element);\n",
              "          const docLink = document.createElement('div');\n",
              "          docLink.innerHTML = docLinkHtml;\n",
              "          element.appendChild(docLink);\n",
              "        }\n",
              "      </script>\n",
              "    </div>\n",
              "  </div>\n",
              "  "
            ]
          },
          "metadata": {},
          "execution_count": 67
        }
      ]
    },
    {
      "cell_type": "markdown",
      "source": [
        "Q6,Find the mean of humidity in each column"
      ],
      "metadata": {
        "id": "IU4Fo7hP7N66"
      }
    },
    {
      "cell_type": "code",
      "source": [
        "India_df.groupby('humidity').mean()"
      ],
      "metadata": {
        "colab": {
          "base_uri": "https://localhost:8080/",
          "height": 326
        },
        "id": "hsr1fh6X5izR",
        "outputId": "e14b909f-508f-48c5-e31d-f831fd5275c7"
      },
      "execution_count": 68,
      "outputs": [
        {
          "output_type": "stream",
          "name": "stderr",
          "text": [
            "<ipython-input-68-dabde82e79ea>:1: FutureWarning: The default value of numeric_only in DataFrameGroupBy.mean is deprecated. In a future version, numeric_only will default to False. Either specify numeric_only or select only columns which should be valid for the function.\n",
            "  India_df.groupby('humidity').mean()\n"
          ]
        },
        {
          "output_type": "execute_result",
          "data": {
            "text/plain": [
              "          precipitationType  temperature  visibility  windDirection  windGust  \\\n",
              "humidity                                                                        \n",
              "78.96                   1.0        28.98       16.00         223.96      7.23   \n",
              "79.79                   1.0        27.19        7.49         138.46     10.19   \n",
              "81.95                   1.0        28.55       24.14         141.88      7.23   \n",
              "82.53                   1.0        29.10       16.00         219.96      9.06   \n",
              "85.82                   1.0        29.08       16.00         221.83     12.91   \n",
              "91.09                   1.0        28.42       24.14         113.08     11.06   \n",
              "\n",
              "          windSpeed  \n",
              "humidity             \n",
              "78.96          5.49  \n",
              "79.79          8.66  \n",
              "81.95          7.03  \n",
              "82.53          7.00  \n",
              "85.82          9.83  \n",
              "91.09         10.00  "
            ],
            "text/html": [
              "\n",
              "  <div id=\"df-da1ad501-d4d3-4757-88df-2a6ab04293ab\">\n",
              "    <div class=\"colab-df-container\">\n",
              "      <div>\n",
              "<style scoped>\n",
              "    .dataframe tbody tr th:only-of-type {\n",
              "        vertical-align: middle;\n",
              "    }\n",
              "\n",
              "    .dataframe tbody tr th {\n",
              "        vertical-align: top;\n",
              "    }\n",
              "\n",
              "    .dataframe thead th {\n",
              "        text-align: right;\n",
              "    }\n",
              "</style>\n",
              "<table border=\"1\" class=\"dataframe\">\n",
              "  <thead>\n",
              "    <tr style=\"text-align: right;\">\n",
              "      <th></th>\n",
              "      <th>precipitationType</th>\n",
              "      <th>temperature</th>\n",
              "      <th>visibility</th>\n",
              "      <th>windDirection</th>\n",
              "      <th>windGust</th>\n",
              "      <th>windSpeed</th>\n",
              "    </tr>\n",
              "    <tr>\n",
              "      <th>humidity</th>\n",
              "      <th></th>\n",
              "      <th></th>\n",
              "      <th></th>\n",
              "      <th></th>\n",
              "      <th></th>\n",
              "      <th></th>\n",
              "    </tr>\n",
              "  </thead>\n",
              "  <tbody>\n",
              "    <tr>\n",
              "      <th>78.96</th>\n",
              "      <td>1.0</td>\n",
              "      <td>28.98</td>\n",
              "      <td>16.00</td>\n",
              "      <td>223.96</td>\n",
              "      <td>7.23</td>\n",
              "      <td>5.49</td>\n",
              "    </tr>\n",
              "    <tr>\n",
              "      <th>79.79</th>\n",
              "      <td>1.0</td>\n",
              "      <td>27.19</td>\n",
              "      <td>7.49</td>\n",
              "      <td>138.46</td>\n",
              "      <td>10.19</td>\n",
              "      <td>8.66</td>\n",
              "    </tr>\n",
              "    <tr>\n",
              "      <th>81.95</th>\n",
              "      <td>1.0</td>\n",
              "      <td>28.55</td>\n",
              "      <td>24.14</td>\n",
              "      <td>141.88</td>\n",
              "      <td>7.23</td>\n",
              "      <td>7.03</td>\n",
              "    </tr>\n",
              "    <tr>\n",
              "      <th>82.53</th>\n",
              "      <td>1.0</td>\n",
              "      <td>29.10</td>\n",
              "      <td>16.00</td>\n",
              "      <td>219.96</td>\n",
              "      <td>9.06</td>\n",
              "      <td>7.00</td>\n",
              "    </tr>\n",
              "    <tr>\n",
              "      <th>85.82</th>\n",
              "      <td>1.0</td>\n",
              "      <td>29.08</td>\n",
              "      <td>16.00</td>\n",
              "      <td>221.83</td>\n",
              "      <td>12.91</td>\n",
              "      <td>9.83</td>\n",
              "    </tr>\n",
              "    <tr>\n",
              "      <th>91.09</th>\n",
              "      <td>1.0</td>\n",
              "      <td>28.42</td>\n",
              "      <td>24.14</td>\n",
              "      <td>113.08</td>\n",
              "      <td>11.06</td>\n",
              "      <td>10.00</td>\n",
              "    </tr>\n",
              "  </tbody>\n",
              "</table>\n",
              "</div>\n",
              "      <button class=\"colab-df-convert\" onclick=\"convertToInteractive('df-da1ad501-d4d3-4757-88df-2a6ab04293ab')\"\n",
              "              title=\"Convert this dataframe to an interactive table.\"\n",
              "              style=\"display:none;\">\n",
              "        \n",
              "  <svg xmlns=\"http://www.w3.org/2000/svg\" height=\"24px\"viewBox=\"0 0 24 24\"\n",
              "       width=\"24px\">\n",
              "    <path d=\"M0 0h24v24H0V0z\" fill=\"none\"/>\n",
              "    <path d=\"M18.56 5.44l.94 2.06.94-2.06 2.06-.94-2.06-.94-.94-2.06-.94 2.06-2.06.94zm-11 1L8.5 8.5l.94-2.06 2.06-.94-2.06-.94L8.5 2.5l-.94 2.06-2.06.94zm10 10l.94 2.06.94-2.06 2.06-.94-2.06-.94-.94-2.06-.94 2.06-2.06.94z\"/><path d=\"M17.41 7.96l-1.37-1.37c-.4-.4-.92-.59-1.43-.59-.52 0-1.04.2-1.43.59L10.3 9.45l-7.72 7.72c-.78.78-.78 2.05 0 2.83L4 21.41c.39.39.9.59 1.41.59.51 0 1.02-.2 1.41-.59l7.78-7.78 2.81-2.81c.8-.78.8-2.07 0-2.86zM5.41 20L4 18.59l7.72-7.72 1.47 1.35L5.41 20z\"/>\n",
              "  </svg>\n",
              "      </button>\n",
              "      \n",
              "  <style>\n",
              "    .colab-df-container {\n",
              "      display:flex;\n",
              "      flex-wrap:wrap;\n",
              "      gap: 12px;\n",
              "    }\n",
              "\n",
              "    .colab-df-convert {\n",
              "      background-color: #E8F0FE;\n",
              "      border: none;\n",
              "      border-radius: 50%;\n",
              "      cursor: pointer;\n",
              "      display: none;\n",
              "      fill: #1967D2;\n",
              "      height: 32px;\n",
              "      padding: 0 0 0 0;\n",
              "      width: 32px;\n",
              "    }\n",
              "\n",
              "    .colab-df-convert:hover {\n",
              "      background-color: #E2EBFA;\n",
              "      box-shadow: 0px 1px 2px rgba(60, 64, 67, 0.3), 0px 1px 3px 1px rgba(60, 64, 67, 0.15);\n",
              "      fill: #174EA6;\n",
              "    }\n",
              "\n",
              "    [theme=dark] .colab-df-convert {\n",
              "      background-color: #3B4455;\n",
              "      fill: #D2E3FC;\n",
              "    }\n",
              "\n",
              "    [theme=dark] .colab-df-convert:hover {\n",
              "      background-color: #434B5C;\n",
              "      box-shadow: 0px 1px 3px 1px rgba(0, 0, 0, 0.15);\n",
              "      filter: drop-shadow(0px 1px 2px rgba(0, 0, 0, 0.3));\n",
              "      fill: #FFFFFF;\n",
              "    }\n",
              "  </style>\n",
              "\n",
              "      <script>\n",
              "        const buttonEl =\n",
              "          document.querySelector('#df-da1ad501-d4d3-4757-88df-2a6ab04293ab button.colab-df-convert');\n",
              "        buttonEl.style.display =\n",
              "          google.colab.kernel.accessAllowed ? 'block' : 'none';\n",
              "\n",
              "        async function convertToInteractive(key) {\n",
              "          const element = document.querySelector('#df-da1ad501-d4d3-4757-88df-2a6ab04293ab');\n",
              "          const dataTable =\n",
              "            await google.colab.kernel.invokeFunction('convertToInteractive',\n",
              "                                                     [key], {});\n",
              "          if (!dataTable) return;\n",
              "\n",
              "          const docLinkHtml = 'Like what you see? Visit the ' +\n",
              "            '<a target=\"_blank\" href=https://colab.research.google.com/notebooks/data_table.ipynb>data table notebook</a>'\n",
              "            + ' to learn more about interactive tables.';\n",
              "          element.innerHTML = '';\n",
              "          dataTable['output_type'] = 'display_data';\n",
              "          await google.colab.output.renderOutput(dataTable, element);\n",
              "          const docLink = document.createElement('div');\n",
              "          docLink.innerHTML = docLinkHtml;\n",
              "          element.appendChild(docLink);\n",
              "        }\n",
              "      </script>\n",
              "    </div>\n",
              "  </div>\n",
              "  "
            ]
          },
          "metadata": {},
          "execution_count": 68
        }
      ]
    },
    {
      "cell_type": "code",
      "source": [
        "England_df.groupby('humidity').mean()"
      ],
      "metadata": {
        "colab": {
          "base_uri": "https://localhost:8080/",
          "height": 326
        },
        "id": "EdVWYaDZ5i5z",
        "outputId": "34462003-76a2-4c52-bbf6-878ad7ee5f32"
      },
      "execution_count": 69,
      "outputs": [
        {
          "output_type": "stream",
          "name": "stderr",
          "text": [
            "<ipython-input-69-43f0db6c0627>:1: FutureWarning: The default value of numeric_only in DataFrameGroupBy.mean is deprecated. In a future version, numeric_only will default to False. Either specify numeric_only or select only columns which should be valid for the function.\n",
            "  England_df.groupby('humidity').mean()\n"
          ]
        },
        {
          "output_type": "execute_result",
          "data": {
            "text/plain": [
              "          precipitationType  temperature  visibility  windDirection  windGust  \\\n",
              "humidity                                                                        \n",
              "92.58                   0.0        17.58       24.14          67.08     11.33   \n",
              "97.27                   1.0        17.84       16.00          53.97      9.52   \n",
              "97.46                   0.0        18.38       16.00          53.25     10.00   \n",
              "97.69                   0.0        17.61       24.14          61.07     11.03   \n",
              "98.44                   1.0        15.89       24.14          57.42     10.82   \n",
              "98.51                   0.0        18.85       16.00          57.06      8.93   \n",
              "\n",
              "          windSpeed  \n",
              "humidity             \n",
              "92.58          6.38  \n",
              "97.27          5.16  \n",
              "97.46          5.13  \n",
              "97.69          6.10  \n",
              "98.44          5.80  \n",
              "98.51          4.86  "
            ],
            "text/html": [
              "\n",
              "  <div id=\"df-6b01652a-e5ca-44d1-b182-4effe1ada4a8\">\n",
              "    <div class=\"colab-df-container\">\n",
              "      <div>\n",
              "<style scoped>\n",
              "    .dataframe tbody tr th:only-of-type {\n",
              "        vertical-align: middle;\n",
              "    }\n",
              "\n",
              "    .dataframe tbody tr th {\n",
              "        vertical-align: top;\n",
              "    }\n",
              "\n",
              "    .dataframe thead th {\n",
              "        text-align: right;\n",
              "    }\n",
              "</style>\n",
              "<table border=\"1\" class=\"dataframe\">\n",
              "  <thead>\n",
              "    <tr style=\"text-align: right;\">\n",
              "      <th></th>\n",
              "      <th>precipitationType</th>\n",
              "      <th>temperature</th>\n",
              "      <th>visibility</th>\n",
              "      <th>windDirection</th>\n",
              "      <th>windGust</th>\n",
              "      <th>windSpeed</th>\n",
              "    </tr>\n",
              "    <tr>\n",
              "      <th>humidity</th>\n",
              "      <th></th>\n",
              "      <th></th>\n",
              "      <th></th>\n",
              "      <th></th>\n",
              "      <th></th>\n",
              "      <th></th>\n",
              "    </tr>\n",
              "  </thead>\n",
              "  <tbody>\n",
              "    <tr>\n",
              "      <th>92.58</th>\n",
              "      <td>0.0</td>\n",
              "      <td>17.58</td>\n",
              "      <td>24.14</td>\n",
              "      <td>67.08</td>\n",
              "      <td>11.33</td>\n",
              "      <td>6.38</td>\n",
              "    </tr>\n",
              "    <tr>\n",
              "      <th>97.27</th>\n",
              "      <td>1.0</td>\n",
              "      <td>17.84</td>\n",
              "      <td>16.00</td>\n",
              "      <td>53.97</td>\n",
              "      <td>9.52</td>\n",
              "      <td>5.16</td>\n",
              "    </tr>\n",
              "    <tr>\n",
              "      <th>97.46</th>\n",
              "      <td>0.0</td>\n",
              "      <td>18.38</td>\n",
              "      <td>16.00</td>\n",
              "      <td>53.25</td>\n",
              "      <td>10.00</td>\n",
              "      <td>5.13</td>\n",
              "    </tr>\n",
              "    <tr>\n",
              "      <th>97.69</th>\n",
              "      <td>0.0</td>\n",
              "      <td>17.61</td>\n",
              "      <td>24.14</td>\n",
              "      <td>61.07</td>\n",
              "      <td>11.03</td>\n",
              "      <td>6.10</td>\n",
              "    </tr>\n",
              "    <tr>\n",
              "      <th>98.44</th>\n",
              "      <td>1.0</td>\n",
              "      <td>15.89</td>\n",
              "      <td>24.14</td>\n",
              "      <td>57.42</td>\n",
              "      <td>10.82</td>\n",
              "      <td>5.80</td>\n",
              "    </tr>\n",
              "    <tr>\n",
              "      <th>98.51</th>\n",
              "      <td>0.0</td>\n",
              "      <td>18.85</td>\n",
              "      <td>16.00</td>\n",
              "      <td>57.06</td>\n",
              "      <td>8.93</td>\n",
              "      <td>4.86</td>\n",
              "    </tr>\n",
              "  </tbody>\n",
              "</table>\n",
              "</div>\n",
              "      <button class=\"colab-df-convert\" onclick=\"convertToInteractive('df-6b01652a-e5ca-44d1-b182-4effe1ada4a8')\"\n",
              "              title=\"Convert this dataframe to an interactive table.\"\n",
              "              style=\"display:none;\">\n",
              "        \n",
              "  <svg xmlns=\"http://www.w3.org/2000/svg\" height=\"24px\"viewBox=\"0 0 24 24\"\n",
              "       width=\"24px\">\n",
              "    <path d=\"M0 0h24v24H0V0z\" fill=\"none\"/>\n",
              "    <path d=\"M18.56 5.44l.94 2.06.94-2.06 2.06-.94-2.06-.94-.94-2.06-.94 2.06-2.06.94zm-11 1L8.5 8.5l.94-2.06 2.06-.94-2.06-.94L8.5 2.5l-.94 2.06-2.06.94zm10 10l.94 2.06.94-2.06 2.06-.94-2.06-.94-.94-2.06-.94 2.06-2.06.94z\"/><path d=\"M17.41 7.96l-1.37-1.37c-.4-.4-.92-.59-1.43-.59-.52 0-1.04.2-1.43.59L10.3 9.45l-7.72 7.72c-.78.78-.78 2.05 0 2.83L4 21.41c.39.39.9.59 1.41.59.51 0 1.02-.2 1.41-.59l7.78-7.78 2.81-2.81c.8-.78.8-2.07 0-2.86zM5.41 20L4 18.59l7.72-7.72 1.47 1.35L5.41 20z\"/>\n",
              "  </svg>\n",
              "      </button>\n",
              "      \n",
              "  <style>\n",
              "    .colab-df-container {\n",
              "      display:flex;\n",
              "      flex-wrap:wrap;\n",
              "      gap: 12px;\n",
              "    }\n",
              "\n",
              "    .colab-df-convert {\n",
              "      background-color: #E8F0FE;\n",
              "      border: none;\n",
              "      border-radius: 50%;\n",
              "      cursor: pointer;\n",
              "      display: none;\n",
              "      fill: #1967D2;\n",
              "      height: 32px;\n",
              "      padding: 0 0 0 0;\n",
              "      width: 32px;\n",
              "    }\n",
              "\n",
              "    .colab-df-convert:hover {\n",
              "      background-color: #E2EBFA;\n",
              "      box-shadow: 0px 1px 2px rgba(60, 64, 67, 0.3), 0px 1px 3px 1px rgba(60, 64, 67, 0.15);\n",
              "      fill: #174EA6;\n",
              "    }\n",
              "\n",
              "    [theme=dark] .colab-df-convert {\n",
              "      background-color: #3B4455;\n",
              "      fill: #D2E3FC;\n",
              "    }\n",
              "\n",
              "    [theme=dark] .colab-df-convert:hover {\n",
              "      background-color: #434B5C;\n",
              "      box-shadow: 0px 1px 3px 1px rgba(0, 0, 0, 0.15);\n",
              "      filter: drop-shadow(0px 1px 2px rgba(0, 0, 0, 0.3));\n",
              "      fill: #FFFFFF;\n",
              "    }\n",
              "  </style>\n",
              "\n",
              "      <script>\n",
              "        const buttonEl =\n",
              "          document.querySelector('#df-6b01652a-e5ca-44d1-b182-4effe1ada4a8 button.colab-df-convert');\n",
              "        buttonEl.style.display =\n",
              "          google.colab.kernel.accessAllowed ? 'block' : 'none';\n",
              "\n",
              "        async function convertToInteractive(key) {\n",
              "          const element = document.querySelector('#df-6b01652a-e5ca-44d1-b182-4effe1ada4a8');\n",
              "          const dataTable =\n",
              "            await google.colab.kernel.invokeFunction('convertToInteractive',\n",
              "                                                     [key], {});\n",
              "          if (!dataTable) return;\n",
              "\n",
              "          const docLinkHtml = 'Like what you see? Visit the ' +\n",
              "            '<a target=\"_blank\" href=https://colab.research.google.com/notebooks/data_table.ipynb>data table notebook</a>'\n",
              "            + ' to learn more about interactive tables.';\n",
              "          element.innerHTML = '';\n",
              "          dataTable['output_type'] = 'display_data';\n",
              "          await google.colab.output.renderOutput(dataTable, element);\n",
              "          const docLink = document.createElement('div');\n",
              "          docLink.innerHTML = docLinkHtml;\n",
              "          element.appendChild(docLink);\n",
              "        }\n",
              "      </script>\n",
              "    </div>\n",
              "  </div>\n",
              "  "
            ]
          },
          "metadata": {},
          "execution_count": 69
        }
      ]
    }
  ]
}